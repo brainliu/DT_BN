{
 "cells": [
  {
   "cell_type": "code",
   "execution_count": 1,
   "metadata": {
    "collapsed": true,
    "pycharm": {
     "is_executing": false
    }
   },
   "outputs": [],
   "source": [
    "import warnings\n",
    "warnings.filterwarnings(\"ignore\")\n",
    "from pgmpy.models import BayesianModel\n",
    "from pgmpy.factors.discrete import  TabularCPD\n",
    "import networkx as nx\n",
    "from matplotlib import pyplot as plt\n",
    "# %matplotlib inline"
   ]
  },
  {
   "cell_type": "code",
   "execution_count": 2,
   "outputs": [],
   "source": [
    "model = BayesianModel([('D', 'G'),   # 一条有向边，D ---> G\n",
    "                       ('I', 'G'),   # I ---> G\n",
    "                       ('G', 'L'),   # G ---> L\n",
    "                       ('I', 'S')])  # I ---> S\n",
    "cpd_d=TabularCPD(variable=\"D\",variable_card=2,values=[[0.6,0.4]])\n",
    "cpd_i = TabularCPD(variable='I', variable_card=2, values=[[0.7, 0.3]])\n",
    "\n",
    "cpd_g = TabularCPD(variable='G', variable_card=3,\n",
    "                   values=[[0.3, 0.05, 0.9,  0.5],\n",
    "                           [0.4, 0.25, 0.08, 0.3],\n",
    "                           [0.3, 0.7,  0.02, 0.2]],\n",
    "                  evidence=['I', 'D'],\n",
    "                  evidence_card=[2, 2])\n",
    "cpd_l = TabularCPD(variable='L', variable_card=2,\n",
    "                   values=[[0.1, 0.4, 0.99],\n",
    "                           [0.9, 0.6, 0.01]],\n",
    "                   evidence=['G'],\n",
    "                   evidence_card=[3])\n",
    "\n",
    "cpd_s = TabularCPD(variable='S', variable_card=2,\n",
    "                   values=[[0.95, 0.2],\n",
    "                           [0.05, 0.8]],\n",
    "                   evidence=['I'],evidence_card=[2])\n",
    "\n"
   ],
   "metadata": {
    "collapsed": false,
    "pycharm": {
     "name": "#%%\n",
     "is_executing": false
    }
   }
  },
  {
   "cell_type": "code",
   "execution_count": 3,
   "outputs": [
    {
     "data": {
      "text/plain": "<Figure size 432x288 with 1 Axes>",
      "image/png": "[encoded data removed]"
     },
     "metadata": {},
     "output_type": "display_data"
    }
   ],
   "source": [
    "#将概率分布加入贝叶斯网络中\n",
    "model.add_cpds(cpd_d, cpd_i, cpd_g, cpd_l, cpd_s)\n",
    "model.check_model()\n",
    "nx.draw(model,\n",
    "        with_labels=True,\n",
    "        node_size=1000,\n",
    "        font_weight='bold',\n",
    "        node_color='y',\n",
    "        pos={\"L\": [4, 3], \"G\": [4, 5], \"S\": [8, 5], \"D\": [2, 7], \"I\": [6, 7]})\n",
    "\n",
    "plt.text(2, 7, model.get_cpds(\"D\"), fontsize=10, color='b')\n",
    "plt.text(5, 6, model.get_cpds(\"I\"), fontsize=10, color='b')\n",
    "plt.text(1, 4, model.get_cpds(\"G\"), fontsize=10, color='b')\n",
    "plt.text(4.2, 2, model.get_cpds(\"L\"), fontsize=10, color='b')\n",
    "plt.text(7, 3.4, model.get_cpds(\"S\"), fontsize=10, color='b')\n",
    "plt.title('test')\n",
    "plt.show()"
   ],
   "metadata": {
    "collapsed": false,
    "pycharm": {
     "name": "#%%\n",
     "is_executing": false
    }
   }
  },
  {
   "cell_type": "code",
   "execution_count": 4,
   "outputs": [
    {
     "data": {
      "text/plain": "[<TabularCPD representing P(D:2) at 0x19af0fa4400>,\n <TabularCPD representing P(I:2) at 0x19af0fa44a8>,\n <TabularCPD representing P(G:3 | I:2, D:2) at 0x19af0fa4518>,\n <TabularCPD representing P(L:2 | G:3) at 0x19af0fa43c8>,\n <TabularCPD representing P(S:2 | I:2) at 0x19af0fa4550>]"
     },
     "metadata": {},
     "output_type": "execute_result",
     "execution_count": 4
    }
   ],
   "source": [
    "model.get_cpds()"
   ],
   "metadata": {
    "collapsed": false,
    "pycharm": {
     "name": "#%%\n",
     "is_executing": false
    }
   }
  },
  {
   "cell_type": "code",
   "execution_count": 5,
   "outputs": [
    {
     "name": "stdout",
     "text": [
      "+------+------+------+------+------+\n| I    | I(0) | I(0) | I(1) | I(1) |\n+------+------+------+------+------+\n| D    | D(0) | D(1) | D(0) | D(1) |\n+------+------+------+------+------+\n| G(0) | 0.3  | 0.05 | 0.9  | 0.5  |\n+------+------+------+------+------+\n| G(1) | 0.4  | 0.25 | 0.08 | 0.3  |\n+------+------+------+------+------+\n| G(2) | 0.3  | 0.7  | 0.02 | 0.2  |\n+------+------+------+------+------+\n"
     ],
     "output_type": "stream"
    },
    {
     "data": {
      "text/plain": "3"
     },
     "metadata": {},
     "output_type": "execute_result",
     "execution_count": 5
    }
   ],
   "source": [
    "print(model.get_cpds('G'))\n",
    "model.get_cardinality('G')  # G节点可能的情况有几种（基数）"
   ],
   "metadata": {
    "collapsed": false,
    "pycharm": {
     "name": "#%%\n",
     "is_executing": false
    }
   }
  },
  {
   "cell_type": "code",
   "execution_count": 6,
   "outputs": [
    {
     "data": {
      "text/plain": "     fruit   size tasty\n0   banana  large   yes\n1    apple  large    no\n2   banana  large   yes\n3    apple  small   yes\n4   banana  large   yes\n5    apple  large   yes\n6   banana  large   yes\n7    apple  small   yes\n8    apple  large   yes\n9    apple  large   yes\n10  banana  large   yes\n11  banana  large    no\n12   apple  small    no\n13  banana  small    no",
      "text/html": "<div>\n<style scoped>\n    .dataframe tbody tr th:only-of-type {\n        vertical-align: middle;\n    }\n\n    .dataframe tbody tr th {\n        vertical-align: top;\n    }\n\n    .dataframe thead th {\n        text-align: right;\n    }\n</style>\n<table border=\"1\" class=\"dataframe\">\n  <thead>\n    <tr style=\"text-align: right;\">\n      <th></th>\n      <th>fruit</th>\n      <th>size</th>\n      <th>tasty</th>\n    </tr>\n  </thead>\n  <tbody>\n    <tr>\n      <th>0</th>\n      <td>banana</td>\n      <td>large</td>\n      <td>yes</td>\n    </tr>\n    <tr>\n      <th>1</th>\n      <td>apple</td>\n      <td>large</td>\n      <td>no</td>\n    </tr>\n    <tr>\n      <th>2</th>\n      <td>banana</td>\n      <td>large</td>\n      <td>yes</td>\n    </tr>\n    <tr>\n      <th>3</th>\n      <td>apple</td>\n      <td>small</td>\n      <td>yes</td>\n    </tr>\n    <tr>\n      <th>4</th>\n      <td>banana</td>\n      <td>large</td>\n      <td>yes</td>\n    </tr>\n    <tr>\n      <th>5</th>\n      <td>apple</td>\n      <td>large</td>\n      <td>yes</td>\n    </tr>\n    <tr>\n      <th>6</th>\n      <td>banana</td>\n      <td>large</td>\n      <td>yes</td>\n    </tr>\n    <tr>\n      <th>7</th>\n      <td>apple</td>\n      <td>small</td>\n      <td>yes</td>\n    </tr>\n    <tr>\n      <th>8</th>\n      <td>apple</td>\n      <td>large</td>\n      <td>yes</td>\n    </tr>\n    <tr>\n      <th>9</th>\n      <td>apple</td>\n      <td>large</td>\n      <td>yes</td>\n    </tr>\n    <tr>\n      <th>10</th>\n      <td>banana</td>\n      <td>large</td>\n      <td>yes</td>\n    </tr>\n    <tr>\n      <th>11</th>\n      <td>banana</td>\n      <td>large</td>\n      <td>no</td>\n    </tr>\n    <tr>\n      <th>12</th>\n      <td>apple</td>\n      <td>small</td>\n      <td>no</td>\n    </tr>\n    <tr>\n      <th>13</th>\n      <td>banana</td>\n      <td>small</td>\n      <td>no</td>\n    </tr>\n  </tbody>\n</table>\n</div>"
     },
     "metadata": {},
     "output_type": "execute_result",
     "execution_count": 6
    }
   ],
   "source": [
    "#已知数据集进行贝叶斯参数的估计\n",
    "import pandas as pd\n",
    "data = pd.DataFrame(data={'fruit': [\"banana\", \"apple\", \"banana\", \"apple\", \"banana\",\"apple\", \"banana\", \n",
    "                                    \"apple\", \"apple\", \"apple\", \"banana\", \"banana\", \"apple\", \"banana\",], \n",
    "                          'tasty': [\"yes\", \"no\", \"yes\", \"yes\", \"yes\", \"yes\", \"yes\", \n",
    "                                    \"yes\", \"yes\", \"yes\", \"yes\", \"no\", \"no\", \"no\"], \n",
    "                          'size': [\"large\", \"large\", \"large\", \"small\", \"large\", \"large\", \"large\",\n",
    "                                    \"small\", \"large\", \"large\", \"large\", \"large\", \"small\", \"small\"]})\n",
    "data"
   ],
   "metadata": {
    "collapsed": false,
    "pycharm": {
     "name": "#%%\n",
     "is_executing": false
    }
   }
  },
  {
   "cell_type": "code",
   "execution_count": 7,
   "outputs": [
    {
     "name": "stdout",
     "text": [
      "\n         fruit\napple       7\nbanana      7\n"
     ],
     "output_type": "stream"
    }
   ],
   "source": [
    "from pgmpy.models import BayesianModel\n",
    "model = BayesianModel([('fruit', 'tasty'), ('size', 'tasty')])\n",
    "from pgmpy.estimators import ParameterEstimator\n",
    "pr=ParameterEstimator(model,data)\n",
    "print(\"\\n\",pr.state_counts(\"fruit\"))"
   ],
   "metadata": {
    "collapsed": false,
    "pycharm": {
     "name": "#%%\n",
     "is_executing": false
    }
   }
  },
  {
   "cell_type": "code",
   "execution_count": 8,
   "outputs": [
    {
     "name": "stdout",
     "text": [
      "\n +------------+--------------+--------------------+---------------------+---------------+\n| fruit      | fruit(apple) | fruit(apple)       | fruit(banana)       | fruit(banana) |\n+------------+--------------+--------------------+---------------------+---------------+\n| size       | size(large)  | size(small)        | size(large)         | size(small)   |\n+------------+--------------+--------------------+---------------------+---------------+\n| tasty(no)  | 0.25         | 0.3333333333333333 | 0.16666666666666666 | 1.0           |\n+------------+--------------+--------------------+---------------------+---------------+\n| tasty(yes) | 0.75         | 0.6666666666666666 | 0.8333333333333334  | 0.0           |\n+------------+--------------+--------------------+---------------------+---------------+\n\n +---------------+-----+\n| fruit(apple)  | 0.5 |\n+---------------+-----+\n| fruit(banana) | 0.5 |\n+---------------+-----+\n+---------------+-----+\n| fruit(apple)  | 0.5 |\n+---------------+-----+\n| fruit(banana) | 0.5 |\n+---------------+-----+\n+-------------+----------+\n| size(large) | 0.714286 |\n+-------------+----------+\n| size(small) | 0.285714 |\n+-------------+----------+\n+------------+--------------+--------------------+---------------------+---------------+\n| fruit      | fruit(apple) | fruit(apple)       | fruit(banana)       | fruit(banana) |\n+------------+--------------+--------------------+---------------------+---------------+\n| size       | size(large)  | size(small)        | size(large)         | size(small)   |\n+------------+--------------+--------------------+---------------------+---------------+\n| tasty(no)  | 0.25         | 0.3333333333333333 | 0.16666666666666666 | 1.0           |\n+------------+--------------+--------------------+---------------------+---------------+\n| tasty(yes) | 0.75         | 0.6666666666666666 | 0.8333333333333334  | 0.0           |\n+------------+--------------+--------------------+---------------------+---------------+\n"
     ],
     "output_type": "stream"
    }
   ],
   "source": [
    "#参数估计\n",
    "from pgmpy.estimators import MaximumLikelihoodEstimator\n",
    "mle=MaximumLikelihoodEstimator(model,data)\n",
    "print(\"\\n\",mle.estimate_cpd(\"tasty\"))\n",
    "print(\"\\n\", mle.estimate_cpd('fruit'))\n",
    "\n",
    "mle.get_parameters()\n",
    "model.fit(data, estimator=MaximumLikelihoodEstimator)\n",
    "print(model.get_cpds('fruit'))\n",
    "print(model.get_cpds('size'))\n",
    "print(model.get_cpds('tasty'))"
   ],
   "metadata": {
    "collapsed": false,
    "pycharm": {
     "name": "#%%\n",
     "is_executing": false
    }
   }
  },
  {
   "cell_type": "code",
   "execution_count": 9,
   "outputs": [
    {
     "name": "stderr",
     "text": [
      "\r  0%|          | 0/2 [00:00<?, ?it/s]",
      "\rFinding Elimination Order: :   0%|          | 0/2 [00:00<?, ?it/s]",
      "\rFinding Elimination Order: : 100%|██████████| 2/2 [00:00<00:00, 501.29it/s]",
      "\n\r  0%|          | 0/2 [00:00<?, ?it/s]",
      "\rEliminating: size:   0%|          | 0/2 [00:00<?, ?it/s]",
      "\rEliminating: fruit:   0%|          | 0/2 [00:00<?, ?it/s]",
      "\rEliminating: fruit: 100%|██████████| 2/2 [00:00<00:00, 133.67it/s]",
      "\n\r  0%|          | 0/1 [00:00<?, ?it/s]",
      "\rFinding Elimination Order: :   0%|          | 0/1 [00:00<?, ?it/s]",
      "\rFinding Elimination Order: : 100%|██████████| 1/1 [00:00<00:00, 334.31it/s]",
      "\n\r  0%|          | 0/1 [00:00<?, ?it/s]",
      "\rEliminating: size:   0%|          | 0/1 [00:00<?, ?it/s]",
      "\rEliminating: size: 100%|██████████| 1/1 [00:00<00:00, 142.69it/s]",
      "\n\r0it [00:00, ?it/s]",
      "\rFinding Elimination Order: : : 0it [00:00, ?it/s]",
      "\rFinding Elimination Order: : : 0it [00:00, ?it/s]",
      "\n\r0it [00:00, ?it/s]",
      "\r0it [00:00, ?it/s]",
      "\n"
     ],
     "output_type": "stream"
    },
    {
     "name": "stdout",
     "text": [
      "+------------+--------------+\n| tasty      |   phi(tasty) |\n+============+==============+\n| tasty(no)  |       0.3393 |\n+------------+--------------+\n| tasty(yes) |       0.6607 |\n+------------+--------------+\n+------------+---------------+--------------------+\n| tasty      | fruit         |   phi(tasty,fruit) |\n+============+===============+====================+\n| tasty(no)  | fruit(apple)  |             0.1369 |\n+------------+---------------+--------------------+\n| tasty(no)  | fruit(banana) |             0.2024 |\n+------------+---------------+--------------------+\n| tasty(yes) | fruit(apple)  |             0.3631 |\n+------------+---------------+--------------------+\n| tasty(yes) | fruit(banana) |             0.2976 |\n+------------+---------------+--------------------+\n",
      "{'tasty': 'yes'}\n"
     ],
     "output_type": "stream"
    }
   ],
   "source": [
    "#变量估计\n",
    "from pgmpy.inference import VariableElimination\n",
    "infer=VariableElimination(model)\n",
    "#查询单个变量的分布概率\n",
    "print(infer.query(['tasty']))\n",
    "print(infer.query(['tasty',\"fruit\"])) #计算联合分布概率\n",
    "print(infer.map_query(['tasty'], evidence={'fruit': \"apple\", 'size': \"large\"})) "
   ],
   "metadata": {
    "collapsed": false,
    "pycharm": {
     "name": "#%%\n",
     "is_executing": false
    }
   }
  },
  {
   "cell_type": "code",
   "execution_count": 10,
   "outputs": [
    {
     "traceback": [
      "\u001b[1;31m---------------------------------------------------------------------------\u001b[0m",
      "\u001b[1;31mImportError\u001b[0m                               Traceback (most recent call last)",
      "\u001b[1;32m<ipython-input-10-8492824911ce>\u001b[0m in \u001b[0;36m<module>\u001b[1;34m()\u001b[0m\n\u001b[0;32m      3\u001b[0m \u001b[1;32mimport\u001b[0m \u001b[0mpandas\u001b[0m \u001b[1;32mas\u001b[0m \u001b[0mpd\u001b[0m\u001b[1;33m\u001b[0m\u001b[0m\n\u001b[0;32m      4\u001b[0m \u001b[1;32mimport\u001b[0m \u001b[0mnumpy\u001b[0m \u001b[1;32mas\u001b[0m \u001b[0mnp\u001b[0m\u001b[1;33m\u001b[0m\u001b[0m\n\u001b[1;32m----> 5\u001b[1;33m \u001b[1;32mfrom\u001b[0m \u001b[0mpgmpy\u001b[0m\u001b[1;33m.\u001b[0m\u001b[0mestimators\u001b[0m \u001b[1;32mimport\u001b[0m \u001b[0mBdeuScore\u001b[0m\u001b[1;33m,\u001b[0m\u001b[0mK2Score\u001b[0m\u001b[1;33m,\u001b[0m\u001b[0mBicScore\u001b[0m\u001b[1;33m\u001b[0m\u001b[0m\n\u001b[0m\u001b[0;32m      6\u001b[0m \u001b[1;32mfrom\u001b[0m \u001b[0mpgmpy\u001b[0m\u001b[1;33m.\u001b[0m\u001b[0mmodels\u001b[0m \u001b[1;32mimport\u001b[0m \u001b[0mBayesianModel\u001b[0m\u001b[1;33m\u001b[0m\u001b[0m\n\u001b[0;32m      7\u001b[0m \u001b[1;33m\u001b[0m\u001b[0m\n",
      "\u001b[1;31mImportError\u001b[0m: cannot import name 'BdeuScore'"
     ],
     "ename": "ImportError",
     "evalue": "cannot import name 'BdeuScore'",
     "output_type": "error"
    }
   ],
   "source": [
    "#贝叶斯结构学习\n",
    "import pandas as pd\n",
    "import numpy as np\n",
    "from pgmpy.estimators import BdeuScore,K2Score,BicScore\n",
    "from pgmpy.models import BayesianModel\n",
    "\n",
    "data=pd.DataFrame(np.random.randint(0,4,size=(5000,2)),columns=list(\"XY\"))\n",
    "data[\"Z\"]=data[\"X\"]+data[\"Y\"]\n",
    "bdeu=BdeuScore(data,equivalent_sample_size=5)\n",
    "\n",
    "model1 = BayesianModel([('X', 'Z'), ('Y', 'Z')])  # X -> Z <- Y\n",
    "model2 = BayesianModel([('X', 'Z'), ('X', 'Y')])  # Y <- X -> Z\n",
    "k2 = K2Score(data)\n",
    "bic = BicScore(data)\n",
    "print(\"-----model1的评分-----\")\n",
    "print(bdeu.score(model1))\n",
    "print(k2.score(model1))\n",
    "print(bic.score(model1))\n",
    "print(\"-----model2的评分-----\")\n",
    "print(bdeu.score(model2))\n",
    "print(k2.score(model2))\n",
    "print(bic.score(model2))\n",
    "print(bdeu.local_score('Z', parents=[]))\n",
    "print(bdeu.local_score('Z', parents=['X']))\n",
    "print(bdeu.local_score('Z', parents=['X', 'Y']))\n"
   ],
   "metadata": {
    "collapsed": false,
    "pycharm": {
     "name": "#%%\n",
     "is_executing": false
    }
   }
  },
  {
   "cell_type": "code",
   "execution_count": null,
   "outputs": [],
   "source": [
    "from pgmpy.estimators import HillClimbSearch\n",
    "\n",
    "# create some data with dependencies\n",
    "data = pd.DataFrame(np.random.randint(0, 3, size=(2500, 8)), columns=list('ABCDEFGH'))\n",
    "data['A'] += data['B'] + data['C']\n",
    "data['H'] = data['G'] - data['A']\n",
    "\n",
    "hc = HillClimbSearch(data, scoring_method=BicScore(data))\n",
    "best_model = hc.estimate()\n",
    "print(best_model.edges())\n",
    "\n"
   ],
   "metadata": {
    "collapsed": false,
    "pycharm": {
     "name": "#%%\n",
     "is_executing": false
    }
   }
  },
  {
   "cell_type": "code",
   "execution_count": 11,
   "outputs": [
    {
     "data": {
      "text/plain": "(A _|_ B | D)\n(A _|_ C | D)\n(A _|_ B | D, C)\n(A _|_ C | D, B)\n(A _|_ C, B | D)"
     },
     "metadata": {},
     "output_type": "execute_result",
     "execution_count": 11
    }
   ],
   "source": [
    "from pgmpy.independencies import Independencies\n",
    "ind1 = Independencies(('A', ['B', 'C'], 'D'))\n",
    "ind1.closure()"
   ],
   "metadata": {
    "collapsed": false,
    "pycharm": {
     "name": "#%%\n",
     "is_executing": false
    }
   }
  },
  {
   "cell_type": "code",
   "execution_count": null,
   "outputs": [],
   "source": [
    "from pgmpy.estimators import ConstraintBasedEstimator\n",
    "from pgmpy.estimators.CITests import chi_square, pearsonr\n",
    "data = pd.DataFrame(np.random.randint(0, 3, size=(2500, 8)), columns=list('ABCDEFGH'))\n",
    "data['A'] += data['B'] + data['C']\n",
    "data['H'] = data['G'] - data['A']\n",
    "data['E'] *= data['F']\n",
    "\n",
    "est = ConstraintBasedEstimator(data)\n",
    "\n",
    "print(chi_square('B', 'H',[],data=est.data, state_names=est.state_names))\n",
    "print(est.test_conditional_independence('B', 'H'))          # dependent\n",
    "print(est.test_conditional_independence('B', 'E'))          # independent\n",
    "print(est.test_conditional_independence('B', 'H', ['A']))   # independent\n",
    "print(est.test_conditional_independence('A', 'G'))          # independent\n",
    "print(est.test_conditional_independence('A', 'G',  ['H']))  # dependent\n",
    "def is_independent(X, Y, Zs=[], significance_level=0.05):\n",
    "    return chi_square(X, Y, Zs,data=est.data, state_names=est.state_names)[1] >= significance_level\n",
    "        \n",
    "print(is_independent('B', 'H'))\n",
    "print(is_independent('B', 'E'))\n",
    "print(is_independent('B', 'H', ['A']))\n",
    "print(is_independent('A', 'G'))\n",
    "print(is_independent('A', 'G', ['H']))\n",
    "\n",
    "\n",
    "from pgmpy.estimators import MmhcEstimator\n",
    "\n",
    "data = pd.DataFrame(np.random.randint(0, 3, size=(5500, 8)), columns=list('ABCDEFGH'))\n",
    "data['A'] += data['B'] + data['C']\n",
    "data['H'] = data['G'] - data['A']\n",
    "data['E'] *= data['F']\n",
    "\n",
    "mmhc = MmhcEstimator(data)\n",
    "skeleton = mmhc.mmpc()\n",
    "print(\"Part 1) Skeleton: \", skeleton.edges())\n",
    "from pgmpy.estimators import BDeuScore\n",
    "hc=HillClimbSearch(data,scoring_method=BdeuScore(data))\n",
    "hc.estimate()"
   ],
   "metadata": {
    "collapsed": false,
    "pycharm": {
     "name": "#%%\n",
     "is_executing": false
    }
   }
  }
 ],
 "metadata": {
  "kernelspec": {
   "name": "pycharm-14933011",
   "language": "python",
   "display_name": "PyCharm (DT_BN)"
  },
  "language_info": {
   "codemirror_mode": {
    "name": "ipython",
    "version": 2
   },
   "file_extension": ".py",
   "mimetype": "text/x-python",
   "name": "python",
   "nbconvert_exporter": "python",
   "pygments_lexer": "ipython2",
   "version": "2.7.6"
  },
  "pycharm": {
   "stem_cell": {
    "cell_type": "raw",
    "source": [],
    "metadata": {
     "collapsed": false
    }
   }
  }
 },
 "nbformat": 4,
 "nbformat_minor": 0
}