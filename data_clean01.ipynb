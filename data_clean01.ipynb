{
 "cells": [
  {
   "cell_type": "code",
   "execution_count": null,
   "metadata": {
    "collapsed": true,
    "pycharm": {
     "is_executing": true
    }
   },
   "outputs": [],
   "source": [
    "import pandas as pd\n",
    "import numpy as np\n",
    "data=pd.read_csv(\"origindata.csv\")\n",
    "print(data.index)\n",
    "%matplot inline"
   ]
  },
  {
   "cell_type": "code",
   "execution_count": null,
   "outputs": [],
   "source": [
    "#Index(['flight', 'name', 'date', 'time'], dtype='object')\n",
    "name_index=set(data[\"name\"].values)\n",
    "date_index=set(data[\"date\"].values)\n",
    "flight_index=set(data[\"flight\"].values)\n",
    "merged_data={}\n",
    "merged_data[\"flight\"]=[]\n",
    "merged_data[\"date\"]=[]\n",
    "for i in name_index:\n",
    "    merged_data[i]=[]\n",
    "merged_data"
   ],
   "metadata": {
    "collapsed": false,
    "pycharm": {
     "name": "#%%\n",
     "is_executing": true
    }
   }
  },
  {
   "cell_type": "code",
   "execution_count": null,
   "outputs": [],
   "source": [
    "#处理数据，将航班和字段提取出来得到各个保障节点的数据\n",
    "index=1\n",
    "for date in date_index:\n",
    "    index+=1\n",
    "    data_temp=data[data[\"date\"]==date]\n",
    "    flight_set=set(data_temp[\"flight\"].values)\n",
    "    for flight_temp in flight_set:\n",
    "        merged_data[\"date\"].append(date) #增加航班日期\n",
    "        merged_data[\"flight\"].append(flight_temp) #增加航班号\n",
    "        node_value_all=data_temp[data_temp[\"flight\"]==flight_temp]\n",
    "        for node_name in name_index:\n",
    "            try:\n",
    "                node_value=node_value_all[node_value_all[\"name\"]==node_name][\"time\"].values()\n",
    "                print(node_value)\n",
    "                merged_data[node_name].append(node_value)\n",
    "            except:\n",
    "                merged_data[node_name].append(-1)\n",
    "    if index>10:\n",
    "        break"
   ],
   "metadata": {
    "collapsed": false,
    "pycharm": {
     "name": "#%%\n",
     "is_executing": true
    }
   }
  }
 ],
 "metadata": {
  "kernelspec": {
   "name": "pycharm-14933011",
   "language": "python",
   "display_name": "PyCharm (DT_BN)"
  },
  "language_info": {
   "codemirror_mode": {
    "name": "ipython",
    "version": 2
   },
   "file_extension": ".py",
   "mimetype": "text/x-python",
   "name": "python",
   "nbconvert_exporter": "python",
   "pygments_lexer": "ipython2",
   "version": "2.7.6"
  },
  "pycharm": {
   "stem_cell": {
    "cell_type": "raw",
    "source": [],
    "metadata": {
     "collapsed": false
    }
   }
  }
 },
 "nbformat": 4,
 "nbformat_minor": 0
}