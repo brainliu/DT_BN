{
 "cells": [
  {
   "cell_type": "code",
   "execution_count": 39,
   "metadata": {
    "collapsed": true,
    "pycharm": {
     "is_executing": false
    }
   },
   "outputs": [
    {
     "name": "stdout",
     "text": [
      "RangeIndex(start=0, stop=1048575, step=1)\n"
     ],
     "output_type": "stream"
    }
   ],
   "source": [
    "import pandas as pd\n",
    "import numpy as np\n",
    "data=pd.read_csv(\"origindata.csv\")\n",
    "print(data.index)\n",
    "%matplotlib inline"
   ]
  },
  {
   "cell_type": "code",
   "execution_count": 40,
   "outputs": [
    {
     "data": {
      "text/plain": "{360.0: [],\n 361.0: [],\n 364.0: [],\n 365.0: [],\n 366.0: [],\n 367.0: [],\n 368.0: [],\n 369.0: [],\n 370.0: [],\n 378.0: [],\n 379.0: [],\n 380.0: [],\n 637.0: [],\n 641.0: [],\n 644.0: [],\n 645.0: [],\n 648.0: [],\n 649.0: [],\n 652.0: [],\n 654.0: [],\n 655.0: [],\n 656.0: [],\n 660.0: [],\n 661.0: [],\n 662.0: [],\n 663.0: [],\n 664.0: [],\n 665.0: [],\n 668.0: [],\n 669.0: [],\n 670.0: [],\n 675.0: [],\n 676.0: [],\n 678.0: [],\n 679.0: [],\n 680.0: [],\n 681.0: [],\n 682.0: [],\n 683.0: [],\n 684.0: [],\n 685.0: [],\n 'date': [],\n 'flight': []}"
     },
     "metadata": {},
     "output_type": "execute_result",
     "execution_count": 40
    }
   ],
   "source": [
    "#Index(['flight', 'name', 'date', 'time'], dtype='object')\n",
    "name_index=set(data[\"name\"].values)\n",
    "date_index=set(data[\"date\"].values)\n",
    "flight_index=set(data[\"flight\"].values)\n",
    "merged_data={}\n",
    "merged_data[\"flight\"]=[]\n",
    "merged_data[\"date\"]=[]\n",
    "for i in name_index:\n",
    "    merged_data[i]=[]\n",
    "merged_data"
   ],
   "metadata": {
    "collapsed": false,
    "pycharm": {
     "name": "#%%\n",
     "is_executing": false
    }
   }
  },
  {
   "cell_type": "code",
   "execution_count": 41,
   "outputs": [
    {
     "name": "stdout",
     "text": [
      "1\n",
      "Index(['flight', 'name', 'date', 'time'], dtype='object')\n673\n0\n10000\n",
      "20000\n30000\n",
      "40000\n50000\n",
      "60000\n70000\n80000\n",
      "90000\n100000\n",
      "110000\n120000\n",
      "0\n",
      "10000\n20000\n30000\n",
      "40000\n50000\n",
      "60000\n70000\n80000\n",
      "90000\n100000\n",
      "110000\n120000\n0\n",
      "10000\n20000\n",
      "30000\n40000\n",
      "50000\n60000\n",
      "70000\n80000\n90000\n",
      "100000\n110000\n",
      "120000\n0\n10000\n",
      "20000\n30000\n",
      "40000\n50000\n60000\n",
      "70000\n80000\n",
      "90000\n100000\n110000\n",
      "120000\n0\n",
      "10000\n20000\n",
      "30000\n",
      "40000\n50000\n",
      "60000\n70000\n",
      "80000\n90000\n100000\n",
      "110000\n120000\n",
      "0\n10000\n20000\n",
      "30000\n40000\n",
      "50000\n60000\n70000\n",
      "80000\n90000\n",
      "100000\n110000\n",
      "120000\n0\n",
      "10000\n20000\n",
      "30000\n40000\n",
      "50000\n60000\n70000\n",
      "80000\n90000\n",
      "100000\n110000\n",
      "120000\n0\n",
      "10000\n20000\n",
      "30000\n40000\n",
      "50000\n60000\n",
      "70000\n80000\n",
      "90000\n100000\n",
      "110000\n120000\n",
      "0\n10000\n20000\n",
      "30000\n40000\n",
      "50000\n60000\n",
      "70000\n80000\n",
      "90000\n100000\n110000\n",
      "120000\n0\n10000\n",
      "20000\n30000\n40000\n",
      "50000\n60000\n70000\n",
      "80000\n90000\n100000\n",
      "110000\n120000\n0\n",
      "10000\n20000\n30000\n",
      "40000\n50000\n60000\n",
      "70000\n80000\n90000\n",
      "100000\n110000\n",
      "120000\n0\n10000\n",
      "20000\n30000\n40000\n",
      "50000\n60000\n70000\n",
      "80000\n90000\n100000\n",
      "110000\n120000\n0\n",
      "10000\n20000\n",
      "30000\n40000\n",
      "50000\n60000\n70000\n",
      "80000\n90000\n",
      "100000\n110000\n120000\n",
      "0\n10000\n",
      "20000\n30000\n40000\n",
      "50000\n60000\n",
      "70000\n80000\n90000\n",
      "100000\n110000\n",
      "120000\n0\n",
      "10000\n",
      "20000\n30000\n",
      "40000\n50000\n",
      "60000\n70000\n80000\n",
      "90000\n100000\n",
      "110000\n120000\n0\n",
      "10000\n20000\n",
      "30000\n40000\n50000\n",
      "60000\n70000\n",
      "80000\n90000\n100000\n",
      "110000\n120000\n",
      "0\n10000\n20000\n",
      "30000\n40000\n",
      "50000\n60000\n70000\n",
      "80000\n90000\n",
      "100000\n110000\n120000\n",
      "0\n10000\n",
      "20000\n30000\n",
      "40000\n",
      "50000\n60000\n",
      "70000\n80000\n",
      "90000\n100000\n110000\n",
      "120000\n0\n",
      "10000\n20000\n30000\n",
      "40000\n50000\n",
      "60000\n70000\n80000\n",
      "90000\n100000\n",
      "110000\n120000\n0\n",
      "10000\n20000\n",
      "30000\n40000\n50000\n",
      "60000\n70000\n",
      "80000\n90000\n100000\n",
      "110000\n120000\n",
      "0\n10000\n20000\n",
      "30000\n40000\n",
      "50000\n60000\n70000\n",
      "80000\n",
      "90000\n100000\n110000\n",
      "120000\n0\n",
      "10000\n20000\n",
      "30000\n40000\n50000\n",
      "60000\n70000\n",
      "80000\n90000\n",
      "100000\n110000\n",
      "120000\n0\n10000\n",
      "20000\n30000\n40000\n",
      "50000\n60000\n70000\n",
      "80000\n90000\n100000\n",
      "110000\n120000\n0\n",
      "10000\n20000\n",
      "30000\n40000\n50000\n",
      "60000\n70000\n80000\n",
      "90000\n100000\n",
      "110000\n120000\n",
      "0\n10000\n20000\n",
      "30000\n40000\n",
      "50000\n60000\n70000\n",
      "80000\n90000\n",
      "100000\n110000\n120000\n"
     ],
     "output_type": "stream"
    }
   ],
   "source": [
    "def str_to_time(str_temp):\n",
    "    try:\n",
    "        str_list=str_temp.split(\":\")\n",
    "        return int(str_list[0])*60+int(str_list[1])\n",
    "    except:\n",
    "        return -1\n",
    "    \n",
    "print(1)\n",
    "data_02=pd.read_csv(\"02.csv\")\n",
    "#日期转换为数字\n",
    "# \n",
    "# Index(['NO', 'flight', 'date', '641 靠梯桥', '644 清洁完成', '645开货仓', '648 首件行李',\n",
    "#        '649 最后一件行李', '655 配餐完成', '660 机务完成', '661 通知上客', '662登机开始', '668关货仓 ',\n",
    "#        '669 撤轮档', '670 牵引车 机务放行', '360预计近机位时间', '361机务完成', '364 引导车到位-删除',\n",
    "#        '365加油完成 缺失较多', '366牵引完成 缺失较多', '367推算预计起飞', '368开客舱', '369上轮档',\n",
    "#        '370登机结束', '378 配餐开始 8个', '379清洁开始', '380撤梯桥', '637关客舱', '缺失个数'],\n",
    "#       dtype='object')\n",
    "index_list=list(data_02.columns)[3:-1]\n",
    "print(data.columns)\n",
    "x=data_02[\"641 靠梯桥\"][1]\n",
    "print(str_to_time(x))\n",
    "new_cleaned_data={}\n",
    "for node_name in index_list:\n",
    "    data_temp=data_02[node_name]\n",
    "    new_cleaned_data[node_name]=[]\n",
    "    for i in range(len(data_02)):\n",
    "        node_temp=str_to_time(data_temp[i])\n",
    "        new_cleaned_data[node_name].append(node_temp)\n",
    "        if i%10000==0:\n",
    "            print(i)\n",
    "new_cleaned_data[\"date\"]=list(data_02[\"date\"])\n",
    "new_cleaned_data[\"flight\"]=list(data_02[\"flight\"])\n",
    "new_cleaned_data[\"缺失个数\"]=list(data_02[\"缺失个数\"])\n",
    "pd.DataFrame(new_cleaned_data).to_csv(\"cleaned02.csv\")"
   ],
   "metadata": {
    "collapsed": false,
    "pycharm": {
     "name": "#%%\n",
     "is_executing": false
    }
   }
  },
  {
   "cell_type": "code",
   "execution_count": 52,
   "outputs": [
    {
     "data": {
      "text/plain": "<Figure size 432x288 with 1 Axes>",
      "image/png": "[encoded data removed]"
     },
     "metadata": {},
     "output_type": "display_data"
    }
   ],
   "source": [
    "#数据补齐，根据\n",
    "data_03=pd.read_csv(\"cleaned02.csv\")\n",
    "#补齐方法，按照航班来，用同一个时刻的航班的数据进行补充\n",
    "#设定字段补齐的优先级顺序，用哪些字段来查找\n",
    "#那么第一步就是求字段两两之间的时间差关系分布，用总体数据来求\n",
    "## \n",
    "# Index(['NO', 'flight', 'date', '641 靠梯桥', '644 清洁完成', '645开货仓', '648 首件行李',\n",
    "#        '649 最后一件行李', '655 配餐完成', '660 机务完成', '661 通知上客', '662登机开始', '668关货仓 ',\n",
    "#        '669 撤轮档', '670 牵引车 机务放行', '360预计近机位时间', '361机务完成', '364 引导车到位-删除',\n",
    "#        '365加油完成 缺失较多', '366牵引完成 缺失较多', '367推算预计起飞', '368开客舱', '369上轮档',\n",
    "#        '370登机结束', '378 配餐开始 8个', '379清洁开始', '380撤梯桥', '637关客舱', '缺失个数'],\n",
    "#       dtype='object')\n",
    "#先根据直接关联的分布来补充第一步数据，统计两两直接关联的数据的结果表\n",
    "#引导车与上轮档数据\n",
    "def get_diff_of_two_node(A,B):\n",
    "    data_temp=data_03[[\"369上轮档\",\"364 引导车到位-删除\"]]\n",
    "    data_temp=data_temp[data_temp[\"369上轮档\"]!=-1]\n",
    "    data_temp=data_temp[data_temp[\"364 引导车到位-删除\"]!=-1]\n",
    "    return data_temp[\"369上轮档\"]-data_temp[\"364 引导车到位-删除\"]\n",
    "x=get_diff_of_two_node(1,2)\n",
    "import matplotlib.pyplot as plt\n",
    "y=[]\n",
    "for i in x:\n",
    "    if i>0 and i<200:\n",
    "        y.append(i)\n",
    "plt.boxplot(y)\n",
    "plt.show()\n",
    "y.sort()"
   ],
   "metadata": {
    "collapsed": false,
    "pycharm": {
     "name": "#%%\n",
     "is_executing": false
    }
   }
  },
  {
   "cell_type": "code",
   "execution_count": 58,
   "outputs": [
    {
     "name": "stdout",
     "text": [
      "641 靠梯桥 641 靠梯桥\n"
     ],
     "output_type": "stream"
    },
    {
     "traceback": [
      "\u001b[1;31m---------------------------------------------------------------------------\u001b[0m",
      "\u001b[1;31mValueError\u001b[0m                                Traceback (most recent call last)",
      "\u001b[1;32m<ipython-input-58-e2ccae4ec6d4>\u001b[0m in \u001b[0;36m<module>\u001b[1;34m()\u001b[0m\n\u001b[0;32m     28\u001b[0m             \u001b[0minfer\u001b[0m\u001b[1;33m=\u001b[0m\u001b[0mVariableElimination\u001b[0m\u001b[1;33m(\u001b[0m\u001b[0mmodel\u001b[0m\u001b[1;33m)\u001b[0m\u001b[1;33m\u001b[0m\u001b[0m\n\u001b[0;32m     29\u001b[0m             \u001b[0mprint\u001b[0m\u001b[1;33m(\u001b[0m\u001b[0minfer\u001b[0m\u001b[1;33m.\u001b[0m\u001b[0mmap_query\u001b[0m\u001b[1;33m(\u001b[0m\u001b[1;33m[\u001b[0m\u001b[0mB\u001b[0m\u001b[1;33m]\u001b[0m\u001b[1;33m,\u001b[0m \u001b[0mevidence\u001b[0m\u001b[1;33m=\u001b[0m\u001b[1;33m{\u001b[0m\u001b[0mA\u001b[0m\u001b[1;33m:\u001b[0m \u001b[1;36m90\u001b[0m\u001b[1;33m}\u001b[0m\u001b[1;33m)\u001b[0m\u001b[1;33m)\u001b[0m\u001b[1;33m\u001b[0m\u001b[0m\n\u001b[1;32m---> 30\u001b[1;33m \u001b[0mget_all_cpb_infer_models\u001b[0m\u001b[1;33m(\u001b[0m\u001b[1;33m)\u001b[0m\u001b[1;33m\u001b[0m\u001b[0m\n\u001b[0m",
      "\u001b[1;32m<ipython-input-58-e2ccae4ec6d4>\u001b[0m in \u001b[0;36mget_all_cpb_infer_models\u001b[1;34m()\u001b[0m\n\u001b[0;32m     23\u001b[0m             \u001b[0mB\u001b[0m\u001b[1;33m=\u001b[0m\u001b[0mname_list\u001b[0m\u001b[1;33m[\u001b[0m\u001b[0mj\u001b[0m\u001b[1;33m]\u001b[0m\u001b[1;33m\u001b[0m\u001b[0m\n\u001b[0;32m     24\u001b[0m             \u001b[0mprint\u001b[0m\u001b[1;33m(\u001b[0m\u001b[0mA\u001b[0m\u001b[1;33m,\u001b[0m\u001b[0mB\u001b[0m\u001b[1;33m)\u001b[0m\u001b[1;33m\u001b[0m\u001b[0m\n\u001b[1;32m---> 25\u001b[1;33m             \u001b[0mmodel\u001b[0m \u001b[1;33m=\u001b[0m \u001b[0mBayesianModel\u001b[0m\u001b[1;33m(\u001b[0m\u001b[1;33m[\u001b[0m\u001b[1;33m(\u001b[0m\u001b[0mA\u001b[0m\u001b[1;33m,\u001b[0m\u001b[0mB\u001b[0m\u001b[1;33m)\u001b[0m\u001b[1;33m]\u001b[0m\u001b[1;33m)\u001b[0m\u001b[1;33m\u001b[0m\u001b[0m\n\u001b[0m\u001b[0;32m     26\u001b[0m             \u001b[0mtwo_nodedata\u001b[0m\u001b[1;33m=\u001b[0m\u001b[0mget_diff_of_two_node2\u001b[0m\u001b[1;33m(\u001b[0m\u001b[0mA\u001b[0m\u001b[1;33m,\u001b[0m\u001b[0mB\u001b[0m\u001b[1;33m)\u001b[0m\u001b[1;33m\u001b[0m\u001b[0m\n\u001b[0;32m     27\u001b[0m             \u001b[0mmodel\u001b[0m\u001b[1;33m.\u001b[0m\u001b[0mfit\u001b[0m\u001b[1;33m(\u001b[0m\u001b[0mtwo_nodedata\u001b[0m\u001b[1;33m,\u001b[0m \u001b[0mestimator\u001b[0m\u001b[1;33m=\u001b[0m\u001b[0mMaximumLikelihoodEstimator\u001b[0m\u001b[1;33m)\u001b[0m\u001b[1;33m\u001b[0m\u001b[0m\n",
      "\u001b[1;32mD:\\Anaconda364\\lib\\site-packages\\pgmpy-0.1.9.dev0-py3.6.egg\\pgmpy\\models\\BayesianModel.py\u001b[0m in \u001b[0;36m__init__\u001b[1;34m(self, ebunch)\u001b[0m\n\u001b[0;32m     94\u001b[0m         \u001b[0msuper\u001b[0m\u001b[1;33m(\u001b[0m\u001b[0mBayesianModel\u001b[0m\u001b[1;33m,\u001b[0m \u001b[0mself\u001b[0m\u001b[1;33m)\u001b[0m\u001b[1;33m.\u001b[0m\u001b[0m__init__\u001b[0m\u001b[1;33m(\u001b[0m\u001b[1;33m)\u001b[0m\u001b[1;33m\u001b[0m\u001b[0m\n\u001b[0;32m     95\u001b[0m         \u001b[1;32mif\u001b[0m \u001b[0mebunch\u001b[0m\u001b[1;33m:\u001b[0m\u001b[1;33m\u001b[0m\u001b[0m\n\u001b[1;32m---> 96\u001b[1;33m             \u001b[0mself\u001b[0m\u001b[1;33m.\u001b[0m\u001b[0madd_edges_from\u001b[0m\u001b[1;33m(\u001b[0m\u001b[0mebunch\u001b[0m\u001b[1;33m)\u001b[0m\u001b[1;33m\u001b[0m\u001b[0m\n\u001b[0m\u001b[0;32m     97\u001b[0m         \u001b[0mself\u001b[0m\u001b[1;33m.\u001b[0m\u001b[0mcpds\u001b[0m \u001b[1;33m=\u001b[0m \u001b[1;33m[\u001b[0m\u001b[1;33m]\u001b[0m\u001b[1;33m\u001b[0m\u001b[0m\n\u001b[0;32m     98\u001b[0m         \u001b[0mself\u001b[0m\u001b[1;33m.\u001b[0m\u001b[0mcardinalities\u001b[0m \u001b[1;33m=\u001b[0m \u001b[0mdefaultdict\u001b[0m\u001b[1;33m(\u001b[0m\u001b[0mint\u001b[0m\u001b[1;33m)\u001b[0m\u001b[1;33m\u001b[0m\u001b[0m\n",
      "\u001b[1;32mD:\\Anaconda364\\lib\\site-packages\\pgmpy-0.1.9.dev0-py3.6.egg\\pgmpy\\base\\DAG.py\u001b[0m in \u001b[0;36madd_edges_from\u001b[1;34m(self, ebunch, weights)\u001b[0m\n\u001b[0;32m    265\u001b[0m         \u001b[1;32melse\u001b[0m\u001b[1;33m:\u001b[0m\u001b[1;33m\u001b[0m\u001b[0m\n\u001b[0;32m    266\u001b[0m             \u001b[1;32mfor\u001b[0m \u001b[0medge\u001b[0m \u001b[1;32min\u001b[0m \u001b[0mebunch\u001b[0m\u001b[1;33m:\u001b[0m\u001b[1;33m\u001b[0m\u001b[0m\n\u001b[1;32m--> 267\u001b[1;33m                 \u001b[0mself\u001b[0m\u001b[1;33m.\u001b[0m\u001b[0madd_edge\u001b[0m\u001b[1;33m(\u001b[0m\u001b[0medge\u001b[0m\u001b[1;33m[\u001b[0m\u001b[1;36m0\u001b[0m\u001b[1;33m]\u001b[0m\u001b[1;33m,\u001b[0m \u001b[0medge\u001b[0m\u001b[1;33m[\u001b[0m\u001b[1;36m1\u001b[0m\u001b[1;33m]\u001b[0m\u001b[1;33m)\u001b[0m\u001b[1;33m\u001b[0m\u001b[0m\n\u001b[0m\u001b[0;32m    268\u001b[0m \u001b[1;33m\u001b[0m\u001b[0m\n\u001b[0;32m    269\u001b[0m     \u001b[1;32mdef\u001b[0m \u001b[0mget_parents\u001b[0m\u001b[1;33m(\u001b[0m\u001b[0mself\u001b[0m\u001b[1;33m,\u001b[0m \u001b[0mnode\u001b[0m\u001b[1;33m)\u001b[0m\u001b[1;33m:\u001b[0m\u001b[1;33m\u001b[0m\u001b[0m\n",
      "\u001b[1;32mD:\\Anaconda364\\lib\\site-packages\\pgmpy-0.1.9.dev0-py3.6.egg\\pgmpy\\models\\BayesianModel.py\u001b[0m in \u001b[0;36madd_edge\u001b[1;34m(self, u, v, **kwargs)\u001b[0m\n\u001b[0;32m    118\u001b[0m         \"\"\"\n\u001b[0;32m    119\u001b[0m         \u001b[1;32mif\u001b[0m \u001b[0mu\u001b[0m \u001b[1;33m==\u001b[0m \u001b[0mv\u001b[0m\u001b[1;33m:\u001b[0m\u001b[1;33m\u001b[0m\u001b[0m\n\u001b[1;32m--> 120\u001b[1;33m             \u001b[1;32mraise\u001b[0m \u001b[0mValueError\u001b[0m\u001b[1;33m(\u001b[0m\u001b[1;34m\"Self loops are not allowed.\"\u001b[0m\u001b[1;33m)\u001b[0m\u001b[1;33m\u001b[0m\u001b[0m\n\u001b[0m\u001b[0;32m    121\u001b[0m         \u001b[1;32mif\u001b[0m \u001b[0mu\u001b[0m \u001b[1;32min\u001b[0m \u001b[0mself\u001b[0m\u001b[1;33m.\u001b[0m\u001b[0mnodes\u001b[0m\u001b[1;33m(\u001b[0m\u001b[1;33m)\u001b[0m \u001b[1;32mand\u001b[0m \u001b[0mv\u001b[0m \u001b[1;32min\u001b[0m \u001b[0mself\u001b[0m\u001b[1;33m.\u001b[0m\u001b[0mnodes\u001b[0m\u001b[1;33m(\u001b[0m\u001b[1;33m)\u001b[0m \u001b[1;32mand\u001b[0m \u001b[0mnx\u001b[0m\u001b[1;33m.\u001b[0m\u001b[0mhas_path\u001b[0m\u001b[1;33m(\u001b[0m\u001b[0mself\u001b[0m\u001b[1;33m,\u001b[0m \u001b[0mv\u001b[0m\u001b[1;33m,\u001b[0m \u001b[0mu\u001b[0m\u001b[1;33m)\u001b[0m\u001b[1;33m:\u001b[0m\u001b[1;33m\u001b[0m\u001b[0m\n\u001b[0;32m    122\u001b[0m             raise ValueError(\n",
      "\u001b[1;31mValueError\u001b[0m: Self loops are not allowed."
     ],
     "ename": "ValueError",
     "evalue": "Self loops are not allowed.",
     "output_type": "error"
    }
   ],
   "source": [
    "#利用就近补充原则，寻找两两变量之间的关系，并且有一个先后顺序，利用条件概率，寻找在当前值为X的时候，另外节点取值最大概率的值作为补充值\n",
    "#第一步计算一个列表，得到两个变量不为空的一个表，\n",
    "from pgmpy.models import BayesianModel\n",
    "from pgmpy.estimators import MaximumLikelihoodEstimator\n",
    "from pgmpy.inference import VariableElimination\n",
    "from pgmpy.estimators import ParameterEstimator\n",
    "def get_diff_of_two_node2(A,B):\n",
    "    data_temp=data_03[[A,B]]\n",
    "    data_temp=data_temp[data_temp[A]!=-1]\n",
    "    data_temp=data_temp[data_temp[B]!=-1]\n",
    "    return data_temp\n",
    "A,B=\"369上轮档\",\"364 引导车到位-删除\"\n",
    "def get_all_cpb_infer_models():\n",
    "    model_dict={}\n",
    "    name_list=[ '641 靠梯桥', '644 清洁完成', '645开货仓', '648 首件行李',\n",
    "       '649 最后一件行李', '655 配餐完成', '660 机务完成', '661 通知上客', '662登机开始', '668关货仓 ',\n",
    "       '669 撤轮档', '670 牵引车 机务放行', '360预计近机位时间', '361机务完成', '364 引导车到位-删除',\n",
    "       '365加油完成 缺失较多', '366牵引完成 缺失较多', '367推算预计起飞', '368开客舱', '369上轮档',\n",
    "       '370登机结束', '378 配餐开始 8个', '379清洁开始', '380撤梯桥', '637关客舱']\n",
    "    for i in range(len(name_list)-1):\n",
    "        for j in range(i,len(name_list)):\n",
    "            A=name_list[i]\n",
    "            B=name_list[j]\n",
    "            print(A,B)\n",
    "            model = BayesianModel([(A,B)])\n",
    "            two_nodedata=get_diff_of_two_node2(A,B)\n",
    "            model.fit(two_nodedata, estimator=MaximumLikelihoodEstimator)\n",
    "            infer=VariableElimination(model)\n",
    "            print(infer.map_query([B], evidence={A: 90}))\n",
    "get_all_cpb_infer_models()"
   ],
   "metadata": {
    "collapsed": false,
    "pycharm": {
     "name": "#%%\n",
     "is_executing": false
    }
   }
  },
  {
   "cell_type": "code",
   "execution_count": 44,
   "outputs": [
    {
     "name": "stdout",
     "text": [
      "0 0\n0 1\n0 2\n0 3\n1 1\n1 2\n1 3\n2 2\n2 3\n"
     ],
     "output_type": "stream"
    }
   ],
   "source": [
    "for i in range(4-1):\n",
    "    for j in range(i,4):\n",
    "        print(i,j)\n"
   ],
   "metadata": {
    "collapsed": false,
    "pycharm": {
     "name": "#%%\n",
     "is_executing": false
    }
   }
  }
 ],
 "metadata": {
  "kernelspec": {
   "name": "pycharm-14933011",
   "language": "python",
   "display_name": "PyCharm (DT_BN)"
  },
  "language_info": {
   "codemirror_mode": {
    "name": "ipython",
    "version": 2
   },
   "file_extension": ".py",
   "mimetype": "text/x-python",
   "name": "python",
   "nbconvert_exporter": "python",
   "pygments_lexer": "ipython2",
   "version": "2.7.6"
  },
  "pycharm": {
   "stem_cell": {
    "cell_type": "raw",
    "source": [],
    "metadata": {
     "collapsed": false
    }
   }
  }
 },
 "nbformat": 4,
 "nbformat_minor": 0
}