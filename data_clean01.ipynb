{
 "cells": [
  {
   "cell_type": "code",
   "execution_count": 4,
   "metadata": {
    "collapsed": true,
    "pycharm": {
     "is_executing": false
    }
   },
   "outputs": [
    {
     "name": "stdout",
     "text": [
      "RangeIndex(start=0, stop=1048575, step=1)\n"
     ],
     "output_type": "stream"
    }
   ],
   "source": [
    "import pandas as pd\n",
    "import numpy as np\n",
    "data=pd.read_csv(\"origindata.csv\")\n",
    "print(data.index)\n",
    "%matplotlib inline"
   ]
  },
  {
   "cell_type": "code",
   "execution_count": 5,
   "outputs": [
    {
     "data": {
      "text/plain": "{360.0: [],\n 361.0: [],\n 364.0: [],\n 365.0: [],\n 366.0: [],\n 367.0: [],\n 368.0: [],\n 369.0: [],\n 370.0: [],\n 378.0: [],\n 379.0: [],\n 380.0: [],\n 637.0: [],\n 641.0: [],\n 644.0: [],\n 645.0: [],\n 648.0: [],\n 649.0: [],\n 652.0: [],\n 654.0: [],\n 655.0: [],\n 656.0: [],\n 660.0: [],\n 661.0: [],\n 662.0: [],\n 663.0: [],\n 664.0: [],\n 665.0: [],\n 668.0: [],\n 669.0: [],\n 670.0: [],\n 675.0: [],\n 676.0: [],\n 678.0: [],\n 679.0: [],\n 680.0: [],\n 681.0: [],\n 682.0: [],\n 683.0: [],\n 684.0: [],\n 685.0: [],\n 'date': [],\n 'flight': []}"
     },
     "metadata": {},
     "output_type": "execute_result",
     "execution_count": 5
    }
   ],
   "source": [
    "#Index(['flight', 'name', 'date', 'time'], dtype='object')\n",
    "name_index=set(data[\"name\"].values)\n",
    "date_index=set(data[\"date\"].values)\n",
    "flight_index=set(data[\"flight\"].values)\n",
    "merged_data={}\n",
    "merged_data[\"flight\"]=[]\n",
    "merged_data[\"date\"]=[]\n",
    "for i in name_index:\n",
    "    merged_data[i]=[]\n",
    "merged_data"
   ],
   "metadata": {
    "collapsed": false,
    "pycharm": {
     "name": "#%%\n",
     "is_executing": false
    }
   }
  },
  {
   "cell_type": "code",
   "execution_count": 41,
   "outputs": [
    {
     "name": "stdout",
     "text": [
      "1\n",
      "Index(['flight', 'name', 'date', 'time'], dtype='object')\n673\n0\n10000\n",
      "20000\n30000\n",
      "40000\n50000\n",
      "60000\n70000\n80000\n",
      "90000\n100000\n",
      "110000\n120000\n",
      "0\n",
      "10000\n20000\n30000\n",
      "40000\n50000\n",
      "60000\n70000\n80000\n",
      "90000\n100000\n",
      "110000\n120000\n0\n",
      "10000\n20000\n",
      "30000\n40000\n",
      "50000\n60000\n",
      "70000\n80000\n90000\n",
      "100000\n110000\n",
      "120000\n0\n10000\n",
      "20000\n30000\n",
      "40000\n50000\n60000\n",
      "70000\n80000\n",
      "90000\n100000\n110000\n",
      "120000\n0\n",
      "10000\n20000\n",
      "30000\n",
      "40000\n50000\n",
      "60000\n70000\n",
      "80000\n90000\n100000\n",
      "110000\n120000\n",
      "0\n10000\n20000\n",
      "30000\n40000\n",
      "50000\n60000\n70000\n",
      "80000\n90000\n",
      "100000\n110000\n",
      "120000\n0\n",
      "10000\n20000\n",
      "30000\n40000\n",
      "50000\n60000\n70000\n",
      "80000\n90000\n",
      "100000\n110000\n",
      "120000\n0\n",
      "10000\n20000\n",
      "30000\n40000\n",
      "50000\n60000\n",
      "70000\n80000\n",
      "90000\n100000\n",
      "110000\n120000\n",
      "0\n10000\n20000\n",
      "30000\n40000\n",
      "50000\n60000\n",
      "70000\n80000\n",
      "90000\n100000\n110000\n",
      "120000\n0\n10000\n",
      "20000\n30000\n40000\n",
      "50000\n60000\n70000\n",
      "80000\n90000\n100000\n",
      "110000\n120000\n0\n",
      "10000\n20000\n30000\n",
      "40000\n50000\n60000\n",
      "70000\n80000\n90000\n",
      "100000\n110000\n",
      "120000\n0\n10000\n",
      "20000\n30000\n40000\n",
      "50000\n60000\n70000\n",
      "80000\n90000\n100000\n",
      "110000\n120000\n0\n",
      "10000\n20000\n",
      "30000\n40000\n",
      "50000\n60000\n70000\n",
      "80000\n90000\n",
      "100000\n110000\n120000\n",
      "0\n10000\n",
      "20000\n30000\n40000\n",
      "50000\n60000\n",
      "70000\n80000\n90000\n",
      "100000\n110000\n",
      "120000\n0\n",
      "10000\n",
      "20000\n30000\n",
      "40000\n50000\n",
      "60000\n70000\n80000\n",
      "90000\n100000\n",
      "110000\n120000\n0\n",
      "10000\n20000\n",
      "30000\n40000\n50000\n",
      "60000\n70000\n",
      "80000\n90000\n100000\n",
      "110000\n120000\n",
      "0\n10000\n20000\n",
      "30000\n40000\n",
      "50000\n60000\n70000\n",
      "80000\n90000\n",
      "100000\n110000\n120000\n",
      "0\n10000\n",
      "20000\n30000\n",
      "40000\n",
      "50000\n60000\n",
      "70000\n80000\n",
      "90000\n100000\n110000\n",
      "120000\n0\n",
      "10000\n20000\n30000\n",
      "40000\n50000\n",
      "60000\n70000\n80000\n",
      "90000\n100000\n",
      "110000\n120000\n0\n",
      "10000\n20000\n",
      "30000\n40000\n50000\n",
      "60000\n70000\n",
      "80000\n90000\n100000\n",
      "110000\n120000\n",
      "0\n10000\n20000\n",
      "30000\n40000\n",
      "50000\n60000\n70000\n",
      "80000\n",
      "90000\n100000\n110000\n",
      "120000\n0\n",
      "10000\n20000\n",
      "30000\n40000\n50000\n",
      "60000\n70000\n",
      "80000\n90000\n",
      "100000\n110000\n",
      "120000\n0\n10000\n",
      "20000\n30000\n40000\n",
      "50000\n60000\n70000\n",
      "80000\n90000\n100000\n",
      "110000\n120000\n0\n",
      "10000\n20000\n",
      "30000\n40000\n50000\n",
      "60000\n70000\n80000\n",
      "90000\n100000\n",
      "110000\n120000\n",
      "0\n10000\n20000\n",
      "30000\n40000\n",
      "50000\n60000\n70000\n",
      "80000\n90000\n",
      "100000\n110000\n120000\n"
     ],
     "output_type": "stream"
    }
   ],
   "source": [
    "def str_to_time(str_temp):\n",
    "    try:\n",
    "        str_list=str_temp.split(\":\")\n",
    "        return int(str_list[0])*60+int(str_list[1])\n",
    "    except:\n",
    "        return -1\n",
    "    \n",
    "print(1)\n",
    "data_02=pd.read_csv(\"02.csv\")\n",
    "#日期转换为数字\n",
    "# \n",
    "# Index(['NO', 'flight', 'date', '641 靠梯桥', '644 清洁完成', '645开货仓', '648 首件行李',\n",
    "#        '649 最后一件行李', '655 配餐完成', '660 机务完成', '661 通知上客', '662登机开始', '668关货仓 ',\n",
    "#        '669 撤轮档', '670 牵引车 机务放行', '360预计近机位时间', '361机务完成', '364 引导车到位-删除',\n",
    "#        '365加油完成 缺失较多', '366牵引完成 缺失较多', '367推算预计起飞', '368开客舱', '369上轮档',\n",
    "#        '370登机结束', '378 配餐开始 8个', '379清洁开始', '380撤梯桥', '637关客舱', '缺失个数'],\n",
    "#       dtype='object')\n",
    "index_list=list(data_02.columns)[3:-1]\n",
    "print(data.columns)\n",
    "x=data_02[\"641 靠梯桥\"][1]\n",
    "print(str_to_time(x))\n",
    "new_cleaned_data={}\n",
    "for node_name in index_list:\n",
    "    data_temp=data_02[node_name]\n",
    "    new_cleaned_data[node_name]=[]\n",
    "    for i in range(len(data_02)):\n",
    "        node_temp=str_to_time(data_temp[i])\n",
    "        new_cleaned_data[node_name].append(node_temp)\n",
    "        if i%10000==0:\n",
    "            print(i)\n",
    "new_cleaned_data[\"date\"]=list(data_02[\"date\"])\n",
    "new_cleaned_data[\"flight\"]=list(data_02[\"flight\"])\n",
    "new_cleaned_data[\"缺失个数\"]=list(data_02[\"缺失个数\"])\n",
    "pd.DataFrame(new_cleaned_data).to_csv(\"cleaned02.csv\")"
   ],
   "metadata": {
    "collapsed": false,
    "pycharm": {
     "name": "#%%\n",
     "is_executing": false
    }
   }
  },
  {
   "cell_type": "code",
   "execution_count": 7,
   "outputs": [
    {
     "data": {
      "text/plain": "<Figure size 432x288 with 1 Axes>",
      "image/png": "[encoded data removed]"
     },
     "metadata": {},
     "output_type": "display_data"
    }
   ],
   "source": [
    "#数据补齐，根据\n",
    "data_03=pd.read_csv(\"cleaned02.csv\")\n",
    "#补齐方法，按照航班来，用同一个时刻的航班的数据进行补充\n",
    "#设定字段补齐的优先级顺序，用哪些字段来查找\n",
    "#那么第一步就是求字段两两之间的时间差关系分布，用总体数据来求\n",
    "## \n",
    "# Index(['NO', 'flight', 'date', '641 靠梯桥', '644 清洁完成', '645开货仓', '648 首件行李',\n",
    "#        '649 最后一件行李', '655 配餐完成', '660 机务完成', '661 通知上客', '662登机开始', '668关货仓 ',\n",
    "#        '669 撤轮档', '670 牵引车 机务放行', '360预计近机位时间', '361机务完成', '364 引导车到位-删除',\n",
    "#        '365加油完成 缺失较多', '366牵引完成 缺失较多', '367推算预计起飞', '368开客舱', '369上轮档',\n",
    "#        '370登机结束', '378 配餐开始 8个', '379清洁开始', '380撤梯桥', '637关客舱', '缺失个数'],\n",
    "#       dtype='object')\n",
    "#先根据直接关联的分布来补充第一步数据，统计两两直接关联的数据的结果表\n",
    "#引导车与上轮档数据\n",
    "def get_diff_of_two_node(A,B):\n",
    "    data_temp=data_03[[\"369上轮档\",\"364 引导车到位-删除\"]]\n",
    "    data_temp=data_temp[data_temp[\"369上轮档\"]!=-1]\n",
    "    data_temp=data_temp[data_temp[\"364 引导车到位-删除\"]!=-1]\n",
    "    return data_temp[\"369上轮档\"]-data_temp[\"364 引导车到位-删除\"]\n",
    "x=get_diff_of_two_node(1,2)\n",
    "import matplotlib.pyplot as plt\n",
    "y=[]\n",
    "for i in x:\n",
    "    if i>0 and i<200:\n",
    "        y.append(i)\n",
    "plt.boxplot(y)\n",
    "plt.show()\n",
    "y.sort()"
   ],
   "metadata": {
    "collapsed": false,
    "pycharm": {
     "name": "#%%\n",
     "is_executing": false
    }
   }
  },
  {
   "cell_type": "code",
   "execution_count": 26,
   "outputs": [
    {
     "name": "stdout",
     "text": [
      "641 靠梯桥 644 清洁完成\n641 靠梯桥 645开货仓\n641 靠梯桥 648 首件行李\n",
      "641 靠梯桥 649 最后一件行李\n641 靠梯桥 655 配餐完成\n641 靠梯桥 660 机务完成\n",
      "641 靠梯桥 661 通知上客\n",
      "641 靠梯桥 662登机开始\n641 靠梯桥 668关货仓 \n",
      "641 靠梯桥 669 撤轮档\n641 靠梯桥 670 牵引车 机务放行\n",
      "641 靠梯桥 360预计近机位时间\n641 靠梯桥 361机务完成\n",
      "641 靠梯桥 364 引导车到位-删除\n",
      "641 靠梯桥 365加油完成 缺失较多\n641 靠梯桥 366牵引完成 缺失较多\n641 靠梯桥 367推算预计起飞\n",
      "641 靠梯桥 368开客舱\n641 靠梯桥 369上轮档\n",
      "641 靠梯桥 370登机结束\n641 靠梯桥 378 配餐开始 8个\n",
      "641 靠梯桥 379清洁开始\n641 靠梯桥 380撤梯桥\n",
      "641 靠梯桥 637关客舱\n644 清洁完成 645开货仓\n",
      "644 清洁完成 648 首件行李\n644 清洁完成 649 最后一件行李\n644 清洁完成 655 配餐完成\n",
      "644 清洁完成 660 机务完成\n644 清洁完成 661 通知上客\n644 清洁完成 662登机开始\n",
      "644 清洁完成 668关货仓 \n644 清洁完成 669 撤轮档\n644 清洁完成 670 牵引车 机务放行\n",
      "644 清洁完成 360预计近机位时间\n644 清洁完成 361机务完成\n644 清洁完成 364 引导车到位-删除\n",
      "644 清洁完成 365加油完成 缺失较多\n644 清洁完成 366牵引完成 缺失较多\n",
      "644 清洁完成 367推算预计起飞\n644 清洁完成 368开客舱\n644 清洁完成 369上轮档\n",
      "644 清洁完成 370登机结束\n644 清洁完成 378 配餐开始 8个\n",
      "644 清洁完成 379清洁开始\n644 清洁完成 380撤梯桥\n",
      "644 清洁完成 637关客舱\n645开货仓 648 首件行李\n645开货仓 649 最后一件行李\n",
      "645开货仓 655 配餐完成\n645开货仓 660 机务完成\n645开货仓 661 通知上客\n645开货仓 662登机开始\n645开货仓 668关货仓 \n645开货仓 669 撤轮档\n645开货仓 670 牵引车 机务放行\n",
      "645开货仓 360预计近机位时间\n645开货仓 361机务完成\n645开货仓 364 引导车到位-删除\n645开货仓 365加油完成 缺失较多\n",
      "645开货仓 366牵引完成 缺失较多\n645开货仓 367推算预计起飞\n645开货仓 368开客舱\n",
      "645开货仓 369上轮档\n645开货仓 370登机结束\n645开货仓 378 配餐开始 8个\n",
      "645开货仓 379清洁开始\n645开货仓 380撤梯桥\n",
      "645开货仓 637关客舱\n648 首件行李 649 最后一件行李\n",
      "648 首件行李 655 配餐完成\n648 首件行李_655 配餐完成 failed****************\n648 首件行李 660 机务完成\n648 首件行李 661 通知上客\n648 首件行李 662登机开始\n648 首件行李 668关货仓 \n648 首件行李 669 撤轮档\n648 首件行李 670 牵引车 机务放行\n648 首件行李 360预计近机位时间\n",
      "648 首件行李 361机务完成\n648 首件行李 364 引导车到位-删除\n648 首件行李 365加油完成 缺失较多\n648 首件行李 366牵引完成 缺失较多\n648 首件行李 367推算预计起飞\n648 首件行李 368开客舱\n",
      "648 首件行李 369上轮档\n648 首件行李 370登机结束\n648 首件行李 378 配餐开始 8个\n648 首件行李_378 配餐开始 8个 failed****************\n648 首件行李 379清洁开始\n648 首件行李 380撤梯桥\n648 首件行李 637关客舱\n",
      "649 最后一件行李 655 配餐完成\n649 最后一件行李_655 配餐完成 failed****************\n649 最后一件行李 660 机务完成\n649 最后一件行李 661 通知上客\n649 最后一件行李 662登机开始\n649 最后一件行李 668关货仓 \n649 最后一件行李 669 撤轮档\n649 最后一件行李 670 牵引车 机务放行\n649 最后一件行李 360预计近机位时间\n",
      "649 最后一件行李 361机务完成\n649 最后一件行李 364 引导车到位-删除\n649 最后一件行李 365加油完成 缺失较多\n649 最后一件行李 366牵引完成 缺失较多\n",
      "649 最后一件行李 367推算预计起飞\n649 最后一件行李 368开客舱\n649 最后一件行李 369上轮档\n",
      "649 最后一件行李 370登机结束\n649 最后一件行李 378 配餐开始 8个\n649 最后一件行李_378 配餐开始 8个 failed****************\n649 最后一件行李 379清洁开始\n649 最后一件行李 380撤梯桥\n",
      "649 最后一件行李 637关客舱\n655 配餐完成 660 机务完成\n655 配餐完成 661 通知上客\n",
      "655 配餐完成 662登机开始\n655 配餐完成 668关货仓 \n",
      "655 配餐完成 669 撤轮档\n655 配餐完成 670 牵引车 机务放行\n",
      "655 配餐完成 360预计近机位时间\n655 配餐完成 361机务完成\n655 配餐完成 364 引导车到位-删除\n",
      "655 配餐完成 365加油完成 缺失较多\n655 配餐完成 366牵引完成 缺失较多\n",
      "655 配餐完成 367推算预计起飞\n",
      "655 配餐完成 368开客舱\n655 配餐完成 369上轮档\n655 配餐完成 370登机结束\n655 配餐完成 378 配餐开始 8个\n",
      "655 配餐完成 379清洁开始\n655 配餐完成 380撤梯桥\n",
      "655 配餐完成 637关客舱\n660 机务完成 661 通知上客\n660 机务完成 662登机开始\n",
      "660 机务完成 668关货仓 \n660 机务完成 669 撤轮档\n",
      "660 机务完成 670 牵引车 机务放行\n660 机务完成_670 牵引车 机务放行 failed****************\n660 机务完成 360预计近机位时间\n660 机务完成 361机务完成\n",
      "660 机务完成 364 引导车到位-删除\n660 机务完成 365加油完成 缺失较多\n660 机务完成 366牵引完成 缺失较多\n",
      "660 机务完成_366牵引完成 缺失较多 failed****************\n660 机务完成 367推算预计起飞\n660 机务完成 368开客舱\n660 机务完成 369上轮档\n",
      "660 机务完成 370登机结束\n660 机务完成 378 配餐开始 8个\n660 机务完成 379清洁开始\n",
      "660 机务完成 380撤梯桥\n660 机务完成 637关客舱\n661 通知上客 662登机开始\n",
      "661 通知上客 668关货仓 \n661 通知上客 669 撤轮档\n",
      "661 通知上客 670 牵引车 机务放行\n661 通知上客 360预计近机位时间\n661 通知上客 361机务完成\n",
      "661 通知上客 364 引导车到位-删除\n661 通知上客 365加油完成 缺失较多\n661 通知上客 366牵引完成 缺失较多\n",
      "661 通知上客 367推算预计起飞\n661 通知上客 368开客舱\n",
      "661 通知上客 369上轮档\n661 通知上客 370登机结束\n661 通知上客 378 配餐开始 8个\n",
      "661 通知上客 379清洁开始\n661 通知上客 380撤梯桥\n661 通知上客",
      " 637关客舱\n662登机开始 668关货仓 \n662登机开始 669 撤轮档\n",
      "662登机开始 670 牵引车 机务放行\n662登机开始 360预计近机位时间\n662登机开始 361机务完成\n",
      "662登机开始 364 引导车到位-删除\n662登机开始 365加油完成 缺失较多\n662登机开始 366牵引完成 缺失较多\n",
      "662登机开始 367推算预计起飞\n662登机开始 368开客舱\n662登机开始 369上轮档\n662登机开始 370登机结束\n",
      "662登机开始 378 配餐开始 8个\n662登机开始 379清洁开始\n",
      "662登机开始 380撤梯桥\n",
      "662登机开始 637关客舱\n",
      "668关货仓  669 撤轮档\n668关货仓  670 牵引车 机务放行\n",
      "668关货仓  360预计近机位时间\n668关货仓  361机务完成\n668关货仓  364 引导车到位-删除\n668关货仓  365加油完成 缺失较多\n",
      "668关货仓  366牵引完成 缺失较多\n668关货仓  367推算预计起飞\n668关货仓  368开客舱\n668关货仓  369上轮档\n",
      "668关货仓  370登机结束\n668关货仓  378 配餐开始 8个\n",
      "668关货仓  379清洁开始\n668关货仓  380撤梯桥\n668关货仓  637关客舱\n",
      "669 撤轮档 670 牵引车 机务放行\n669 撤轮档 360预计近机位时间\n",
      "669 撤轮档 361机务完成\n",
      "669 撤轮档 364 引导车到位-删除\n669 撤轮档 365加油完成 缺失较多\n",
      "669 撤轮档 366牵引完成 缺失较多\n669 撤轮档 367推算预计起飞\n",
      "669 撤轮档 368开客舱\n",
      "669 撤轮档 369上轮档\n669 撤轮档 370登机结束\n",
      "669 撤轮档 378 配餐开始 8个\n669 撤轮档 379清洁开始\n",
      "669 撤轮档 380撤梯桥\n669 撤轮档 637关客舱\n",
      "670 牵引车 机务放行 360预计近机位时间\n670 牵引车 机务放行 361机务完成\n670 牵引车 机务放行_361机务完成 failed****************\n670 牵引车 机务放行 364 引导车到位-删除\n670 牵引车 机务放行 365加油完成 缺失较多\n",
      "670 牵引车 机务放行_365加油完成 缺失较多 failed****************\n670 牵引车 机务放行 366牵引完成 缺失较多\n670 牵引车 机务放行 367推算预计起飞\n",
      "670 牵引车 机务放行 368开客舱\n670 牵引车 机务放行 369上轮档\n670 牵引车 机务放行 370登机结束\n",
      "670 牵引车 机务放行 378 配餐开始 8个\n670 牵引车 机务放行 379清洁开始\n",
      "670 牵引车 机务放行 380撤梯桥\n670 牵引车 机务放行 637关客舱\n",
      "360预计近机位时间 361机务完成\n360预计近机位时间 364 引导车到位-删除\n360预计近机位时间 365加油完成 缺失较多\n",
      "360预计近机位时间 366牵引完成 缺失较多\n360预计近机位时间 367推算预计起飞\n360预计近机位时间 368开客舱\n",
      "360预计近机位时间 369上轮档\n360预计近机位时间 370登机结束\n360预计近机位时间 378 配餐开始 8个\n360预计近机位时间 379清洁开始\n",
      "360预计近机位时间 380撤梯桥\n360预计近机位时间 637关客舱\n361机务完成 364 引导车到位-删除\n",
      "361机务完成 365加油完成 缺失较多\n361机务完成 366牵引完成 缺失较多\n361机务完成_366牵引完成 缺失较多 failed****************\n361机务完成 367推算预计起飞\n361机务完成 368开客舱\n",
      "361机务完成 369上轮档\n361机务完成 370登机结束\n",
      "361机务完成 378 配餐开始 8个\n361机务完成 379清洁开始\n361机务完成 380撤梯桥\n",
      "361机务完成 637关客舱\n364 引导车到位-删除 365加油完成 缺失较多\n364 引导车到位-删除 366牵引完成 缺失较多\n",
      "364 引导车到位-删除 367推算预计起飞\n364 引导车到位-删除 368开客舱\n364 引导车到位-删除 369上轮档\n",
      "364 引导车到位-删除 370登机结束\n364 引导车到位-删除 378 配餐开始 8个\n364 引导车到位-删除 379清洁开始\n364 引导车到位-删除 380撤梯桥\n",
      "364 引导车到位-删除 637关客舱\n365加油完成 缺失较多 366牵引完成 缺失较多\n365加油完成 缺失较多_366牵引完成 缺失较多 failed****************\n365加油完成 缺失较多 367推算预计起飞\n365加油完成 缺失较多 368开客舱\n365加油完成 缺失较多 369上轮档\n",
      "365加油完成 缺失较多 370登机结束\n365加油完成 缺失较多 378 配餐开始 8个\n365加油完成 缺失较多 379清洁开始\n",
      "365加油完成 缺失较多 380撤梯桥\n365加油完成 缺失较多 637关客舱\n",
      "366牵引完成 缺失较多 367推算预计起飞\n366牵引完成 缺失较多 368开客舱\n366牵引完成 缺失较多 369上轮档\n366牵引完成 缺失较多 370登机结束\n",
      "366牵引完成 缺失较多 378 配餐开始 8个\n366牵引完成 缺失较多 379清洁开始\n366牵引完成 缺失较多 380撤梯桥\n",
      "366牵引完成 缺失较多 637关客舱\n367推算预计起飞 368开客舱\n367推算预计起飞 369上轮档\n367推算预计起飞 370登机结束\n",
      "367推算预计起飞 378 配餐开始 8个\n367推算预计起飞 379清洁开始\n367推算预计起飞 380撤梯桥\n",
      "367推算预计起飞 637关客舱\n368开客舱 369上轮档\n",
      "368开客舱 370登机结束\n368开客舱 378 配餐开始 8个\n368开客舱 379清洁开始\n368开客舱 380撤梯桥\n368开客舱 637关客舱\n369上轮档 370登机结束\n",
      "369上轮档 378 配餐开始 8个\n369上轮档 379清洁开始\n369上轮档 380撤梯桥\n369上轮档 637关客舱\n",
      "370登机结束 378 配餐开始 8个\n370登机结束 379清洁开始\n",
      "370登机结束 380撤梯桥\n370登机结束 637关客舱\n",
      "378 配餐开始 8个 379清洁开始\n378 配餐开始 8个 380撤梯桥\n378 配餐开始 8个 637关客舱\n",
      "379清洁开始 380撤梯桥\n379清洁开始 637关客舱\n380撤梯桥 637关客舱\n"
     ],
     "output_type": "stream"
    }
   ],
   "source": [
    "#利用就近补充原则，寻找两两变量之间的关系，并且有一个先后顺序，利用条件概率，寻找在当前值为X的时候，另外节点取值最大概率的值作为补充值\n",
    "#第一步计算一个列表，得到两个变量不为空的一个表，\n",
    "from pgmpy.models import BayesianModel\n",
    "from pgmpy.estimators import MaximumLikelihoodEstimator\n",
    "from pgmpy.inference import VariableElimination\n",
    "from pgmpy.estimators import ParameterEstimator\n",
    "def get_diff_of_two_node2(A,B):\n",
    "    data_temp=data_03[[A,B]]\n",
    "    data_temp=data_temp[data_temp[A]!=-1]\n",
    "    data_temp=data_temp[data_temp[B]!=-1]\n",
    "    return data_temp\n",
    "# A,B=\"369上轮档\",\"364 引导车到位-删除\"\n",
    "# two_datatest=get_diff_of_two_node2(A,B)\n",
    "# model = BayesianModel([(A,B)])\n",
    "# two_nodedata=get_diff_of_two_node2(A,B)\n",
    "# model.fit(two_nodedata, estimator=MaximumLikelihoodEstimator)\n",
    "# infer=VariableElimination(model)\n",
    "# print(infer.map_query([B], evidence={A: 90}))\n",
    "name_list=[ '641 靠梯桥', '644 清洁完成', '645开货仓', '648 首件行李',\n",
    "       '649 最后一件行李', '655 配餐完成', '660 机务完成', '661 通知上客', '662登机开始', '668关货仓 ',\n",
    "       '669 撤轮档', '670 牵引车 机务放行', '360预计近机位时间', '361机务完成', '364 引导车到位-删除',\n",
    "       '365加油完成 缺失较多', '366牵引完成 缺失较多', '367推算预计起飞', '368开客舱', '369上轮档',\n",
    "       '370登机结束', '378 配餐开始 8个', '379清洁开始', '380撤梯桥', '637关客舱']\n",
    "def get_all_cpb_infer_models():\n",
    "    model_dict={}\n",
    "    \n",
    "    for i in range(len(name_list)-1):\n",
    "        for j in range(i+1,len(name_list)):\n",
    "            A=name_list[i]\n",
    "            B=name_list[j]\n",
    "            name_compare=A+\"_\"+B\n",
    "            print(A,B)\n",
    "            try:\n",
    "                model = BayesianModel([(A,B)])\n",
    "                two_nodedata=get_diff_of_two_node2(A,B)\n",
    "                model.fit(two_nodedata, estimator=MaximumLikelihoodEstimator)\n",
    "                infer_temp=VariableElimination(model)\n",
    "                #print(infer_temp.map_query([B], evidence={A: 90})) #查询的代码\n",
    "                model_dict[name_compare]=[infer_temp]\n",
    "                \n",
    "            except:\n",
    "                print(name_compare,\"failed****************\")\n",
    "                model_dict[name_compare]=[-1]\n",
    "    return model_dict\n",
    "all_model_cpb=get_all_cpb_infer_models()"
   ],
   "metadata": {
    "collapsed": false,
    "pycharm": {
     "name": "#%%\n",
     "is_executing": false
    }
   }
  },
  {
   "cell_type": "code",
   "execution_count": 35,
   "outputs": [
    {
     "name": "stdout",
     "text": [
      "641 靠梯桥 644 清洁完成\n0.06946994199297282\n641 靠梯桥 645开货仓\n0.9389823913638158\n641 靠梯桥 648 首件行李\n0.8192427355940077\n641 靠梯桥 649 最后一件行李\n0.7542503245176069\n641 靠梯桥 655 配餐完成\n0.4406713509650409\n641 靠梯桥 660 机务完成\n-0.04924379053325543\n641 靠梯桥 661 通知上客\n0.019330838749976313\n641 靠梯桥 662登机开始\n0.4890072213200213\n641 靠梯桥 668关货仓 \n0.3178731637879125\n641 靠梯桥 669 撤轮档\n0.151192056561255\n641 靠梯桥 670 牵引车 机务放行\n0.38098556476898116\n641 靠梯桥 360预计近机位时间\n0.9010944106314054\n641 靠梯桥 361机务完成\n-0.018032553675095014\n641 靠梯桥 364 引导车到位-删除\n0.9103574888273012\n641 靠梯桥 365加油完成 缺失较多\n-0.12389167211114582\n641 靠梯桥 366牵引完成 缺失较多\n0.21233760019548992\n641 靠梯桥 367推算预计起飞\n-0.07840263734286902\n641 靠梯桥 368开客舱\n0.9475846607878642\n641 靠梯桥 369上轮档\n0.9325301251499187\n641 靠梯桥 370登机结束\n0.34609317340863854\n641 靠梯桥 378 配餐开始 8个\n0.7550457431111511\n641 靠梯桥 379清洁开始\n0.45133425650031433\n641 靠梯桥 380撤梯桥\n0.12309633142914822\n641 靠梯桥 637关客舱\n",
      "0.26988755207818277\n644 清洁完成 645开货仓\n0.2306356947990487\n644 清洁完成 648 首件行李\n0.8090900677946522\n644 清洁完成 649 最后一件行李\n0.8118208501649196\n644 清洁完成 655 配餐完成\n0.8865586533736272\n644 清洁完成 660 机务完成\n0.791365877979903\n644 清洁完成 661 通知上客\n0.743074466187575\n644 清洁完成 662登机开始\n0.7064259703121852\n644 清洁完成 668关货仓 \n0.6010353606886345\n644 清洁完成 669 撤轮档\n0.47476443826619447\n644 清洁完成 670 牵引车 机务放行\n0.688215478333795\n644 清洁完成 360预计近机位时间\n-0.031660069786152094\n644 清洁完成 361机务完成\n0.6104042403152163\n644 清洁完成 364 引导车到位-删除\n-0.08251205603838349\n644 清洁完成 365加油完成 缺失较多\n0.7026246545409225\n644 清洁完成 366牵引完成 缺失较多\n0.44130793717185807\n644 清洁完成 367推算预计起飞\n0.39385288195693635\n644 清洁完成 368开客舱\n",
      "0.2033157715529461\n644 清洁完成 369上轮档\n-0.038798304183370956\n644 清洁完成 370登机结束\n0.5908835767263848\n644 清洁完成 378 配餐开始 8个\n0.7873410026230933\n644 清洁完成 379清洁开始\n0.867668377106025\n644 清洁完成 380撤梯桥\n0.48357092301398724\n644 清洁完成 637关客舱\n0.5407256198265598\n645开货仓 648 首件行李\n0.8567833180961923\n645开货仓 649 最后一件行李\n0.7903666563269662\n645开货仓 655 配餐完成\n0.5522914697531711\n645开货仓 660 机务完成\n-0.09563327374245337\n645开货仓 661 通知上客\n0.05295279969653966\n645开货仓 662登机开始\n0.7326703159063008\n645开货仓 668关货仓 \n0.46555507927360373\n645开货仓 669 撤轮档\n0.4897998649130977\n645开货仓 670 牵引车 机务放行\n0.5150846212861098\n645开货仓 360预计近机位时间\n0.9235945158398318\n645开货仓 361机务完成\n-0.20277234902438412\n645开货仓 364 引导车到位-删除\n0.9108313725510477\n645开货仓 365加油完成 缺失较多\n-0.18162969824814423\n645开货仓 366牵引完成 缺失较多\n0.28536651438021815\n645开货仓 367推算预计起飞\n0.12231453624268275\n645开货仓 368开客舱\n0.9697315839426764\n645开货仓 369上轮档\n",
      "0.9527117827216551\n645开货仓 370登机结束\n0.6659616209735764\n645开货仓 378 配餐开始 8个\n0.9896375659809616\n645开货仓 379清洁开始\n0.7714669339184581\n645开货仓 380撤梯桥\n0.2028338328370967\n645开货仓 637关客舱\n0.42843587005012257\n648 首件行李 649 最后一件行李\n0.9251493564688142\n648 首件行李 655 配餐完成\nnan\n648 首件行李 660 机务完成\nnan\n648 首件行李 661 通知上客\n0.7606895800017953\n648 首件行李 662登机开始\n0.7660553310694187\n648 首件行李 668关货仓 \n0.6568576613687488\n648 首件行李 669 撤轮档\n0.6191875935757983\n648 首件行李 670 牵引车 机务放行\n0.7292236433016083\n648 首件行李 360预计近机位时间\n0.8091612757898891\n648 首件行李 361机务完成\n",
      "nan\n648 首件行李 364 引导车到位-删除\n0.7841135771780201\n648 首件行李 365加油完成 缺失较多\nnan\n648 首件行李 366牵引完成 缺失较多\n0.44959819298806597\n648 首件行李 367推算预计起飞\n0.16021117321064732\n648 首件行李 368开客舱\n0.8434429417092064\n648 首件行李 369上轮档\n0.8302821449310168\n648 首件行李 370登机结束\n0.7867275699783332\n648 首件行李 378 配餐开始 8个\nnan\n648 首件行李 379清洁开始\n0.6322546349298419\n648 首件行李 380撤梯桥\n0.2749555623908627\n648 首件行李 637关客舱\n0.5733297657287311\n649 最后一件行李 655 配餐完成\nnan\n649 最后一件行李 660 机务完成\nnan\n649 最后一件行李 661 通知上客\n0.7674096266124433\n649 最后一件行李 662登机开始\n0.7709106314684795\n649 最后一件行李 668关货仓 \n0.672065787063695\n649 最后一件行李 669 撤轮档\n0.600909148809638\n649 最后一件行李 670 牵引车 机务放行\n0.7426508618105744\n649 最后一件行李 360预计近机位时间\n0.7467255845051217\n649 最后一件行李 361机务完成\nnan\n649 最后一件行李 364 引导车到位-删除\n0.7176996554771169\n649 最后一件行李 365加油完成 缺失较多\nnan\n649 最后一件行李 366牵引完成 缺失较多\n0.46562940936359826\n649 最后一件行李 367推算预计起飞\n0.1971811418008125\n649 最后一件行李 368开客舱\n",
      "0.7769560875853715\n649 最后一件行李 369上轮档\n0.7719791206171842\n649 最后一件行李 370登机结束\n0.7913881421925693\n649 最后一件行李 378 配餐开始 8个\nnan\n649 最后一件行李 379清洁开始\n0.6237727211900421\n649 最后一件行李 380撤梯桥\n0.330634791674859\n649 最后一件行李 637关客舱\n0.5876003861693958\n655 配餐完成 660 机务完成\n0.7328188658217457\n655 配餐完成 661 通知上客\n0.8287790919765248\n655 配餐完成 662登机开始\n0.8304422481537628\n655 配餐完成 668关货仓 \n0.7155474455033745\n655 配餐完成 669 撤轮档\n0.5856083909205975\n655 配餐完成 670 牵引车 机务放行\n0.7978120783733524\n655 配餐完成 360预计近机位时间\n0.2603107172080302\n655 配餐完成 361机务完成\n0.607993479410574\n655 配餐完成 364 引导车到位-删除\n0.21258320794315252\n655 配餐完成 365加油完成 缺失较多\n0.7419139762334848\n655 配餐完成 366牵引完成 缺失较多\n0.5935125900676979\n655 配餐完成 367推算预计起飞\n0.4937017629720236\n655 配餐完成 368开客舱\n0.3242221481709003\n655 配餐完成 369上轮档\n0.2429215689138593\n655 配餐完成 370登机结束\n0.7116698589874263\n655 配餐完成 378 配餐开始 8个\n",
      "0.8609898496743306\n655 配餐完成 379清洁开始\n0.7824983873432658\n655 配餐完成 380撤梯桥\n0.6094095322000583\n655 配餐完成 637关客舱\n0.659522388552495\n660 机务完成 661 通知上客\n0.7160250292336071\n660 机务完成 662登机开始\n0.6706738070675882\n660 机务完成 668关货仓 \n0.6778088049049373\n660 机务完成 669 撤轮档\n0.5124259744379477\n660 机务完成 670 牵引车 机务放行\nnan\n660 机务完成 360预计近机位时间\n-0.08820354638824454\n660 机务完成 361机务完成\n0.5625110432087355\n660 机务完成 364 引导车到位-删除\n-0.09345242531848665\n660 机务完成 365加油完成 缺失较多\n0.7237305321996674\n660 机务完成 366牵引完成 缺失较多\nnan\n660 机务完成 367推算预计起飞\n0.37977104908293935\n660 机务完成 368开客舱\n-0.030041176456596975\n660 机务完成 369上轮档\n-0.08238584002948225\n660 机务完成 370登机结束\n0.6194435705690239\n660 机务完成 378 配餐开始 8个\n0.6009184596643433\n660 机务完成 379清洁开始\n0.6161933010873696\n660 机务完成 380撤梯桥\n0.4814300409122492\n660 机务完成 637关客舱\n0.5804048128463467\n661 通知上客 662登机开始\n0.8912189611825464\n661 通知上客 668关货仓 \n0.765396797155256\n661 通知上客 669 撤轮档\n0.5340720012580408\n661 通知上客 670 牵引车 机务放行\n0.8481274632527414\n661 通知上客 360预计近机位时间\n-0.03968530869699758\n661 通知上客 361机务完成\n0.5167807177214725\n661 通知上客 364 引导车到位-删除\n0.0023889380402538117\n661 通知上客 365加油完成 缺失较多\n0.7921338920669571\n661 通知上客 366牵引完成 缺失较多\n",
      "0.5535633666630456\n661 通知上客 367推算预计起飞\n0.4097123289426358\n661 通知上客 368开客舱\n-0.015796870308403394\n661 通知上客 369上轮档\n-0.06676991724617902\n661 通知上客 370登机结束\n0.7589026865704395\n661 通知上客 378 配餐开始 8个\n0.7847234880689158\n661 通知上客 379清洁开始\n0.7045346590016176\n661 通知上客 380撤梯桥\n0.6090962160751685\n661 通知上客 637关客舱\n0.6943755929986725\n662登机开始 668关货仓 \n0.8169649093490272\n662登机开始 669 撤轮档\n0.6687426599311548\n662登机开始 670 牵引车 机务放行\n0.8751926710470261\n662登机开始 360预计近机位时间\n0.6428273515540402\n662登机开始 361机务完成\n0.396361728991725\n662登机开始 364 引导车到位-删除\n0.5045275710228793\n662登机开始 365加油完成 缺失较多\n0.7530309041242519\n662登机开始 366牵引完成 缺失较多\n0.6236722608875107\n662登机开始 367推算预计起飞\n0.508577706594885\n662登机开始 368开客舱\n0.4599756472878311\n662登机开始 369上轮档\n0.6000625212167738\n662登机开始 370登机结束\n",
      "0.848757724321056\n662登机开始 378 配餐开始 8个\n0.7227999915522393\n662登机开始 379清洁开始\n0.6614740529891392\n662登机开始 380撤梯桥\n0.7302874723245134\n662登机开始 637关客舱\n0.7699843853747891\n668关货仓  669 撤轮档\n0.8109082211304949\n668关货仓  670 牵引车 机务放行\n0.8239817747663618\n668关货仓  360预计近机位时间\n0.270643277603827\n668关货仓  361机务完成\n0.318114383806261\n668关货仓  364 引导车到位-删除\n0.2452463223679451\n668关货仓  365加油完成 缺失较多\n0.8584158176757672\n668关货仓  366牵引完成 缺失较多\n0.7713936264523928\n668关货仓  367推算预计起飞\n0.6300729044670702\n668关货仓  368开客舱\n0.018167660463282408\n668关货仓  369上轮档\n0.226218829613203\n668关货仓  370登机结束\n0.928444578874427\n668关货仓  378 配餐开始 8个\n0.6128600517411279\n668关货仓  379清洁开始\n0.5273085018405029\n668关货仓  380撤梯桥\n0.8732109200931377\n668关货仓  637关客舱\n0.9189760250611235\n669 撤轮档 670 牵引车 机务放行\n0.6686321428708534\n669 撤轮档 360预计近机位时间\n0.1026621907814116\n669 撤轮档 361机务完成\n0.21624916204130423\n669 撤轮档 364 引导车到位-删除\n0.13613203244783562\n669 撤轮档 365加油完成 缺失较多\n0.675436978895088\n669 撤轮档 366牵引完成 缺失较多\n0.9539286121961587\n669 撤轮档 367推算预计起飞\n0.6542289998470652\n669 撤轮档 368开客舱\n",
      "-0.1394863963582466\n669 撤轮档 369上轮档\n0.10063871723868312\n669 撤轮档 370登机结束\n0.8070925103297741\n669 撤轮档 378 配餐开始 8个\n0.4918660050562597\n669 撤轮档 379清洁开始\n0.4201140708441892\n669 撤轮档 380撤梯桥\n0.8266965241894836\n669 撤轮档 637关客舱\n0.8722963464900506\n670 牵引车 机务放行 360预计近机位时间\n0.526047722531247\n670 牵引车 机务放行 361机务完成\nnan\n670 牵引车 机务放行 364 引导车到位-删除\n0.37211543388497587\n670 牵引车 机务放行 365加油完成 缺失较多\nnan\n670 牵引车 机务放行 366牵引完成 缺失较多\n0.6567384316067518\n670 牵引车 机务放行 367推算预计起飞\n0.5329336948866293\n670 牵引车 机务放行 368开客舱\n0.5285164227566472\n670 牵引车 机务放行 369上轮档\n0.4446216767392696\n670 牵引车 机务放行 370登机结束\n0.8497273658700778\n670 牵引车 机务放行 378 配餐开始 8个\n0.7187120004803631\n670 牵引车 机务放行 379清洁开始\n0.6170720302487058\n670 牵引车 机务放行 380撤梯桥\n0.7452809283563129\n670 牵引车 机务放行 637关客舱\n0.7854343574999071\n360预计近机位时间 361机务完成\n-0.11879518206258684\n360预计近机位时间 364 引导车到位-删除\n",
      "0.9335242807492359\n360预计近机位时间 365加油完成 缺失较多\n-0.13775000214471214\n360预计近机位时间 366牵引完成 缺失较多\n0.2309001333875713\n360预计近机位时间 367推算预计起飞\n0.11359421220875845\n360预计近机位时间 368开客舱\n0.9366405877853898\n360预计近机位时间 369上轮档\n0.9269082736077314\n360预计近机位时间 370登机结束\n0.37694211228235275\n360预计近机位时间 378 配餐开始 8个\n0.6633136461441337\n360预计近机位时间 379清洁开始\n0.36783000103296704\n360预计近机位时间 380撤梯桥\n0.08056914820336189\n360预计近机位时间 637关客舱\n0.20724320458399392\n361机务完成 364 引导车到位-删除\n-0.1631888409689977\n361机务完成 365加油完成 缺失较多\n0.5360810889228838\n361机务完成 366牵引完成 缺失较多\nnan\n361机务完成 367推算预计起飞\n0.11478139030677205\n361机务完成 368开客舱\n0.13812861789896752\n361机务完成 369上轮档\n-0.11636528559350841\n361机务完成 370登机结束\n0.2941650730947817\n361机务完成 378 配餐开始 8个\n0.6499829458717282\n361机务完成 379清洁开始\n0.6690286189659148\n361机务完成 380撤梯桥\n0.20381673239308848\n361机务完成 637关客舱\n0.25486658343517643\n364 引导车到位-删除 365加油完成 缺失较多\n-0.0969387911136997\n364 引导车到位-删除 366牵引完成 缺失较多\n0.1553337087354748\n364 引导车到位-删除 367推算预计起飞\n0.09299973986969028\n364 引导车到位-删除 368开客舱\n0.9253359160418709\n364 引导车到位-删除 369上轮档\n",
      "0.9211987055636899\n364 引导车到位-删除 370登机结束\n0.3669062583310158\n364 引导车到位-删除 378 配餐开始 8个\n0.5262939950563007\n364 引导车到位-删除 379清洁开始\n0.4976729240833342\n364 引导车到位-删除 380撤梯桥\n0.12437656002255856\n364 引导车到位-删除 637关客舱\n0.22406428715673668\n365加油完成 缺失较多 366牵引完成 缺失较多\nnan\n365加油完成 缺失较多 367推算预计起飞\n0.5372854466479643\n365加油完成 缺失较多 368开客舱\n-0.0695457399481828\n365加油完成 缺失较多 369上轮档\n-0.12830680374805292\n365加油完成 缺失较多 370登机结束\n0.761369935938231\n365加油完成 缺失较多 378 配餐开始 8个\n0.5822577347579012\n365加油完成 缺失较多 379清洁开始\n0.6030551493344236\n365加油完成 缺失较多 380撤梯桥\n0.5811007505511635\n365加油完成 缺失较多 637关客舱\n0.705751713623422\n366牵引完成 缺失较多 367推算预计起飞\n0.6188502078652799\n366牵引完成 缺失较多 368开客舱\n0.2435858537295394\n366牵引完成 缺失较多 369上轮档\n0.3177378056566448\n366牵引完成 缺失较多 370登机结束\n0.7633663860161604\n366牵引完成 缺失较多 378 配餐开始 8个\n0.49889255883229616\n366牵引完成 缺失较多 379清洁开始\n0.36221395610359347\n366牵引完成 缺失较多 380撤梯桥\n0.7962826939162396\n366牵引完成 缺失较多 637关客舱\n0.8274432535653141\n367推算预计起飞 368开客舱\n-0.141719689674398\n367推算预计起飞 369上轮档\n0.03236897921938884\n367推算预计起飞 370登机结束\n",
      "0.6018027193637161\n367推算预计起飞 378 配餐开始 8个\n0.429443107807938\n367推算预计起飞 379清洁开始\n0.38282632807633704\n367推算预计起飞 380撤梯桥\n0.59439664474218\n367推算预计起飞 637关客舱\n0.6162007795843928\n368开客舱 369上轮档\n0.9667849601256601\n368开客舱 370登机结束\n0.12965003602624944\n368开客舱 378 配餐开始 8个\n0.6983674680445675\n368开客舱 379清洁开始\n0.6236383630384736\n368开客舱 380撤梯桥\n0.13525150654834417\n368开客舱 637关客舱\n-0.012682632183227908\n369上轮档 370登机结束\n0.29868200560703284\n369上轮档 378 配餐开始 8个\n0.8428868301093638\n369上轮档 379清洁开始\n0.3096592231109099\n369上轮档 380撤梯桥\n0.11144967994379888\n369上轮档 637关客舱\n0.19195055299895677\n370登机结束 378 配餐开始 8个\n0.6007045592287725\n370登机结束 379清洁开始\n0.5300198772359798\n370登机结束 380撤梯桥\n0.8653160836305638\n370登机结束 637关客舱\n0.911985743057565\n378 配餐开始 8个 379清洁开始\n0.8934984652239195\n378 配餐开始 8个 380撤梯桥\n0.522484806989368\n378 配餐开始 8个 637关客舱\n0.5560045657639311\n379清洁开始 380撤梯桥\n0.4569657930444982\n379清洁开始 637关客舱\n",
      "0.47501782704032597\n380撤梯桥 637关客舱\n0.914549772419352\n"
     ],
     "output_type": "stream"
    }
   ],
   "source": [
    "##下一步设计补齐数据的方法，为每个节点寻找最大相关系数变量，计算相关系数表，根据相关系数的优先级来完成数据的填充\n",
    "##\n",
    "corr_dict={}\n",
    "for i in range(len(name_list)-1):\n",
    "        for j in range(i+1,len(name_list)):\n",
    "            A=name_list[i]\n",
    "            B=name_list[j]\n",
    "            name_compare=A+\"_\"+B\n",
    "            print(A,B)\n",
    "            try:\n",
    "                two_nodedata=get_diff_of_two_node2(A,B)\n",
    "                print(two_nodedata.corr().iloc[0,1])\n",
    "            except:\n",
    "                pass"
   ],
   "metadata": {
    "collapsed": false,
    "pycharm": {
     "name": "#%%\n",
     "is_executing": false
    }
   }
  },
  {
   "cell_type": "code",
   "execution_count": 34,
   "outputs": [
    {
     "data": {
      "text/plain": "0.9676443927131408"
     },
     "metadata": {},
     "output_type": "execute_result",
     "execution_count": 34
    }
   ],
   "source": [
    "x=[a for a in range(100)]\n",
    "#构造一元二次方程，非线性关系\n",
    "def y_x(x):\n",
    "    return 2*x**2+4\n",
    "data=pd.DataFrame({'x':x,'y':y})\n",
    "y=[y_x(i) for i in x]\n",
    "data.corr().iloc[0,1]\n"
   ],
   "metadata": {
    "collapsed": false,
    "pycharm": {
     "name": "#%%\n",
     "is_executing": false
    }
   }
  }
 ],
 "metadata": {
  "kernelspec": {
   "name": "pycharm-14933011",
   "language": "python",
   "display_name": "PyCharm (DT_BN)"
  },
  "language_info": {
   "codemirror_mode": {
    "name": "ipython",
    "version": 2
   },
   "file_extension": ".py",
   "mimetype": "text/x-python",
   "name": "python",
   "nbconvert_exporter": "python",
   "pygments_lexer": "ipython2",
   "version": "2.7.6"
  },
  "pycharm": {
   "stem_cell": {
    "cell_type": "raw",
    "source": [],
    "metadata": {
     "collapsed": false
    }
   }
  }
 },
 "nbformat": 4,
 "nbformat_minor": 0
}