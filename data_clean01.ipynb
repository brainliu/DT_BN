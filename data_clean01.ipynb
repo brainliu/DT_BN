{
 "cells": [
  {
   "cell_type": "code",
   "execution_count": 2,
   "metadata": {
    "collapsed": true,
    "pycharm": {
     "is_executing": false
    }
   },
   "outputs": [
    {
     "name": "stdout",
     "text": [
      "RangeIndex(start=0, stop=1048575, step=1)\n"
     ],
     "output_type": "stream"
    }
   ],
   "source": [
    "import pandas as pd\n",
    "import numpy as np\n",
    "data=pd.read_csv(\"origindata.csv\")\n",
    "print(data.index)\n",
    "%matplotlib inline"
   ]
  },
  {
   "cell_type": "code",
   "execution_count": 3,
   "outputs": [
    {
     "data": {
      "text/plain": "{360.0: [],\n 361.0: [],\n 364.0: [],\n 365.0: [],\n 366.0: [],\n 367.0: [],\n 368.0: [],\n 369.0: [],\n 370.0: [],\n 378.0: [],\n 379.0: [],\n 380.0: [],\n 637.0: [],\n 641.0: [],\n 644.0: [],\n 645.0: [],\n 648.0: [],\n 649.0: [],\n 652.0: [],\n 654.0: [],\n 655.0: [],\n 656.0: [],\n 660.0: [],\n 661.0: [],\n 662.0: [],\n 663.0: [],\n 664.0: [],\n 665.0: [],\n 668.0: [],\n 669.0: [],\n 670.0: [],\n 675.0: [],\n 676.0: [],\n 678.0: [],\n 679.0: [],\n 680.0: [],\n 681.0: [],\n 682.0: [],\n 683.0: [],\n 684.0: [],\n 685.0: [],\n 'date': [],\n 'flight': []}"
     },
     "metadata": {},
     "output_type": "execute_result",
     "execution_count": 3
    }
   ],
   "source": [
    "#Index(['flight', 'name', 'date', 'time'], dtype='object')\n",
    "name_index=set(data[\"name\"].values)\n",
    "date_index=set(data[\"date\"].values)\n",
    "flight_index=set(data[\"flight\"].values)\n",
    "merged_data={}\n",
    "merged_data[\"flight\"]=[]\n",
    "merged_data[\"date\"]=[]\n",
    "for i in name_index:\n",
    "    merged_data[i]=[]\n",
    "merged_data"
   ],
   "metadata": {
    "collapsed": false,
    "pycharm": {
     "name": "#%%\n",
     "is_executing": false
    }
   }
  },
  {
   "cell_type": "code",
   "execution_count": 7,
   "outputs": [
    {
     "name": "stdout",
     "text": [
      "1\n",
      "Index(['flight', 'name', 'date', 'time'], dtype='object')\n673\n0\n10000\n",
      "20000\n30000\n",
      "40000\n50000\n",
      "60000\n70000\n80000\n",
      "90000\n100000\n110000\n",
      "120000\n0\n10000\n",
      "20000\n30000\n40000\n",
      "50000\n60000\n",
      "70000\n80000\n90000\n",
      "100000\n110000\n",
      "120000\n0\n10000\n",
      "20000\n30000\n",
      "40000\n50000\n60000\n",
      "70000\n80000\n",
      "90000\n100000\n110000\n",
      "120000\n0\n",
      "10000\n20000\n30000\n",
      "40000\n50000\n",
      "60000\n70000\n80000\n",
      "90000\n100000\n",
      "110000\n120000\n0\n",
      "10000\n20000\n",
      "30000\n40000\n50000\n",
      "60000\n70000\n",
      "80000\n90000\n100000\n",
      "110000\n120000\n",
      "0\n10000\n20000\n",
      "30000\n40000\n50000\n",
      "60000\n70000\n80000",
      "\n90000\n",
      "100000\n110000\n",
      "120000\n0\n10000\n",
      "20000\n30000\n",
      "40000\n50000\n",
      "60000\n70000\n",
      "80000\n90000\n",
      "100000\n110000\n",
      "120000\n0\n10000\n",
      "20000\n30000\n",
      "40000\n50000\n60000\n",
      "70000\n80000\n",
      "90000\n100000\n",
      "110000\n120000\n",
      "0\n10000\n",
      "20000\n30000\n",
      "40000\n50000\n",
      "60000\n70000\n",
      "80000\n90000\n",
      "100000\n110000\n",
      "120000\n0\n",
      "10000\n20000\n",
      "30000\n40000\n",
      "50000\n60000\n",
      "70000\n80000\n",
      "90000\n100000\n",
      "110000\n120000\n0\n",
      "10000\n20000\n",
      "30000\n40000\n50000\n",
      "60000\n70000\n",
      "80000\n90000\n100000\n",
      "110000\n120000\n",
      "0\n10000\n20000\n",
      "30000\n40000\n",
      "50000\n60000\n70000\n",
      "80000\n90000\n",
      "100000\n110000\n",
      "120000\n0\n",
      "10000\n20000\n30000\n",
      "40000\n50000\n",
      "60000\n70000\n80000\n",
      "90000\n100000\n",
      "110000\n120000\n0\n",
      "10000\n20000\n",
      "30000\n40000\n",
      "50000\n60000\n",
      "70000\n80000\n",
      "90000\n100000\n",
      "110000\n120000\n0\n",
      "10000\n20000\n",
      "30000\n40000\n50000\n",
      "60000\n70000\n",
      "80000\n90000\n100000\n",
      "110000\n120000\n",
      "0\n10000\n20000\n",
      "30000\n40000\n",
      "50000\n60000\n70000\n",
      "80000\n90000\n",
      "100000\n110000\n",
      "120000\n0\n",
      "10000\n20000\n30000\n",
      "40000\n50000\n",
      "60000\n70000\n80000\n",
      "90000\n100000\n",
      "110000\n120000\n0\n",
      "10000\n20000\n",
      "30000\n40000\n50000\n",
      "60000\n70000\n",
      "80000\n90000\n100000\n",
      "110000\n120000\n",
      "0\n10000\n20000\n",
      "30000\n40000\n",
      "50000\n60000\n70000\n",
      "80000\n90000\n",
      "100000\n110000\n120000\n",
      "0\n10000\n",
      "20000\n30000\n40000\n",
      "50000\n60000\n",
      "70000\n80000\n90000\n",
      "100000\n110000\n",
      "120000\n0\n10000\n",
      "20000\n30000\n",
      "40000\n50000\n60000\n",
      "70000\n80000\n",
      "90000\n100000\n",
      "110000\n120000\n",
      "0\n10000\n",
      "20000\n30000\n",
      "40000\n50000\n60000\n",
      "70000\n80000\n90000\n",
      "100000\n110000\n",
      "120000\n0\n10000\n",
      "20000\n30000\n",
      "40000\n50000\n60000\n",
      "70000\n80000\n",
      "90000\n100000\n110000\n",
      "120000\n0\n10000\n",
      "20000\n30000\n",
      "40000\n50000\n60000\n",
      "70000\n80000\n",
      "90000\n100000\n",
      "110000\n120000\n",
      "0\n10000\n",
      "20000\n30000\n",
      "40000\n50000\n60000\n",
      "70000\n80000\n",
      "90000\n100000\n",
      "110000\n120000\n"
     ],
     "output_type": "stream"
    }
   ],
   "source": [
    "def str_to_time(str_temp):\n",
    "    try:\n",
    "        str_list=str_temp.split(\":\")\n",
    "        return int(str_list[0])*60+int(str_list[1])\n",
    "    except:\n",
    "        return -1\n",
    "    \n",
    "print(1)\n",
    "data_02=pd.read_csv(\"02.csv\")\n",
    "#日期转换为数字\n",
    "# \n",
    "# Index(['NO', 'flight', 'date', '641 靠梯桥', '644 清洁完成', '645开货仓', '648 首件行李',\n",
    "#        '649 最后一件行李', '655 配餐完成', '660 机务完成', '661 通知上客', '662登机开始', '668关货仓 ',\n",
    "#        '669 撤轮档', '670 牵引车 机务放行', '360预计近机位时间', '361机务完成', '364 引导车到位-删除',\n",
    "#        '365加油完成 缺失较多', '366牵引完成 缺失较多', '367推算预计起飞', '368开客舱', '369上轮档',\n",
    "#        '370登机结束', '378 配餐开始 8个', '379清洁开始', '380撤梯桥', '637关客舱', '缺失个数'],\n",
    "#       dtype='object')\n",
    "index_list=list(data_02.columns)[3:-1]\n",
    "print(data.columns)\n",
    "x=data_02[\"641 靠梯桥\"][1]\n",
    "print(str_to_time(x))\n",
    "new_cleaned_data={}\n",
    "for node_name in index_list:\n",
    "    data_temp=data_02[node_name]\n",
    "    new_cleaned_data[node_name]=[]\n",
    "    for i in range(len(data_02)):\n",
    "        node_temp=str_to_time(data_temp[i])\n",
    "        new_cleaned_data[node_name].append(node_temp)\n",
    "        if i%10000==0:\n",
    "            print(i)\n",
    "new_cleaned_data[\"date\"]=list(data_02[\"date\"])\n",
    "new_cleaned_data[\"flight\"]=list(data_02[\"flight\"])\n",
    "new_cleaned_data[\"缺失个数\"]=list(data_02[\"缺失个数\"])\n",
    "pd.DataFrame(new_cleaned_data).to_csv(\"cleaned02.csv\")"
   ],
   "metadata": {
    "collapsed": false,
    "pycharm": {
     "name": "#%%\n",
     "is_executing": false
    }
   }
  },
  {
   "cell_type": "code",
   "execution_count": 9,
   "outputs": [],
   "source": [
    "#数据补齐，根据\n",
    "data_03=pd.read_csv(\"cleaned02.csv\")\n",
    "#补齐方法，按照航班来，用同一个时刻的航班的数据进行补充\n",
    "#设定字段补齐的优先级顺序，用哪些字段来查找\n",
    "#那么第一步就是求字段两两之间的时间差关系分布，用总体数据来求\n",
    "#"
   ],
   "metadata": {
    "collapsed": false,
    "pycharm": {
     "name": "#%%\n",
     "is_executing": false
    }
   }
  }
 ],
 "metadata": {
  "kernelspec": {
   "name": "pycharm-14933011",
   "language": "python",
   "display_name": "PyCharm (DT_BN)"
  },
  "language_info": {
   "codemirror_mode": {
    "name": "ipython",
    "version": 2
   },
   "file_extension": ".py",
   "mimetype": "text/x-python",
   "name": "python",
   "nbconvert_exporter": "python",
   "pygments_lexer": "ipython2",
   "version": "2.7.6"
  },
  "pycharm": {
   "stem_cell": {
    "cell_type": "raw",
    "source": [],
    "metadata": {
     "collapsed": false
    }
   }
  }
 },
 "nbformat": 4,
 "nbformat_minor": 0
}