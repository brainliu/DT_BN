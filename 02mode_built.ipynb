{
 "cells": [
  {
   "cell_type": "code",
   "execution_count": 6,
   "metadata": {
    "collapsed": true,
    "pycharm": {
     "is_executing": false
    }
   },
   "outputs": [
    {
     "data": {
      "text/plain": "Index(['Unnamed: 0', '360预计近机位时间', '361机务完成', '364 引导车到位-删除', '365加油完成 缺失较多',\n       '366牵引完成 缺失较多', '367推算预计起飞', '368开客舱', '369上轮档', '370登机结束',\n       '378 配餐开始 8个', '379清洁开始', '380撤梯桥', '637关客舱', '641 靠梯桥', '644 清洁完成',\n       '645开货仓', '648 首件行李', '649 最后一件行李', '655 配餐完成', '660 机务完成', '661 通知上客',\n       '662登机开始', '668关货仓 ', '669 撤轮档', '670 牵引车 机务放行', 'date', 'flight',\n       '缺失个数'],\n      dtype='object')"
     },
     "metadata": {},
     "output_type": "execute_result",
     "execution_count": 6
    }
   ],
   "source": [
    "import pandas as pd\n",
    "import numpy as np\n",
    "data=pd.read_csv(\"cleaned02.csv\")\n",
    "data.columns\n",
    "#数据的index\n",
    "# Index(['Unnamed: 0', '360预计近机位时间', '361机务完成', '364 引导车到位-删除', '365加油完成 缺失较多',\n",
    "#        '366牵引完成 缺失较多', '367推算预计起飞', '368开客舱', '369上轮档', '370登机结束',\n",
    "#        '378 配餐开始 8个', '379清洁开始', '380撤梯桥', '637关客舱', '641 靠梯桥', '644 清洁完成',\n",
    "#        '645开货仓', '648 首件行李', '649 最后一件行李', '655 配餐完成', '660 机务完成', '661 通知上客',\n",
    "#        '662登机开始', '668关货仓 ', '669 撤轮档', '670 牵引车 机务放行', 'date', 'flight',\n",
    "#        '缺失个数'],\n",
    "#       dtype='object')\n",
    "##随时间演变的贝叶斯网络结构time_vary bayesina network\n",
    "#day and hour is not the same 数据要归一化？\n",
    "##date 可以用\n",
    "##数据的离散化处理后再利用贝叶斯进行估计\n"
   ]
  }
 ],
 "metadata": {
  "kernelspec": {
   "name": "pycharm-14933011",
   "language": "python",
   "display_name": "PyCharm (DT_BN)"
  },
  "language_info": {
   "codemirror_mode": {
    "name": "ipython",
    "version": 2
   },
   "file_extension": ".py",
   "mimetype": "text/x-python",
   "name": "python",
   "nbconvert_exporter": "python",
   "pygments_lexer": "ipython2",
   "version": "2.7.6"
  },
  "pycharm": {
   "stem_cell": {
    "cell_type": "raw",
    "source": [],
    "metadata": {
     "collapsed": false
    }
   }
  }
 },
 "nbformat": 4,
 "nbformat_minor": 0
}