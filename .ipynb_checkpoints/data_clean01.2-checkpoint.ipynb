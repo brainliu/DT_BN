{
 "cells": [
  {
   "cell_type": "code",
   "execution_count": 1,
   "metadata": {
    "collapsed": true,
    "pycharm": {
     "is_executing": false
    }
   },
   "outputs": [
    {
     "name": "stdout",
     "output_type": "stream",
     "text": [
      "data_final02 not exists!\n",
      "Index(['NO', 'flight', 'date', '641 靠梯桥', '644 清洁完成', '645开货仓', '655 配餐完成',\n",
      "       '660 机务完成', '662登机开始', '668关货仓 ', '669 撤轮档', '361机务完成', '365加油完成 缺失较多',\n",
      "       '368开客舱', '369上轮档', '370登机结束', '378 配餐开始 8个', '379清洁开始', '380撤梯桥',\n",
      "       '637关客舱', '缺失个数'],\n",
      "      dtype='object')\n",
      "236\n",
      "0\n",
      "10000\n",
      "20000\n",
      "30000\n",
      "40000\n",
      "0\n",
      "10000\n",
      "20000\n",
      "30000\n",
      "40000\n",
      "0\n",
      "10000\n",
      "20000\n",
      "30000\n",
      "40000\n",
      "0\n",
      "10000\n",
      "20000\n",
      "30000\n",
      "40000\n",
      "0\n",
      "10000\n",
      "20000\n",
      "30000\n",
      "40000\n",
      "0\n",
      "10000\n",
      "20000\n",
      "30000\n",
      "40000\n",
      "0\n",
      "10000\n",
      "20000\n",
      "30000\n",
      "40000\n",
      "0\n",
      "10000\n",
      "20000\n",
      "30000\n",
      "40000\n",
      "0\n",
      "10000\n",
      "20000\n",
      "30000\n",
      "40000\n",
      "0\n",
      "10000\n",
      "20000\n",
      "30000\n",
      "40000\n",
      "0\n",
      "10000\n",
      "20000\n",
      "30000\n",
      "40000\n",
      "0\n",
      "10000\n",
      "20000\n",
      "30000\n",
      "40000\n",
      "0\n",
      "10000\n",
      "20000\n",
      "30000\n",
      "40000\n",
      "0\n",
      "10000\n",
      "20000\n",
      "30000\n",
      "40000\n",
      "0\n",
      "10000\n",
      "20000\n",
      "30000\n",
      "40000\n",
      "0\n",
      "10000\n",
      "20000\n",
      "30000\n",
      "40000\n",
      "0\n",
      "10000\n",
      "20000\n",
      "30000\n",
      "40000\n",
      "load data_final02 success!\n"
     ]
    }
   ],
   "source": [
    "#数据归一化处理后，再进行补齐，以上轮档为归一化起点，但保留上轮档这一列数据，新生成一列数据\n",
    "import pandas as pd\n",
    "import numpy as np\n",
    "data=pd.read_csv(\"cleand_final01.csv\")\n",
    "# print(data.columns)\n",
    "#设置全局变量所有的变量name_index\n",
    "name_index_global=['641 靠梯桥', '644 清洁完成', '645开货仓', '655 配餐完成',\n",
    "       '660 机务完成', '662登机开始', '668关货仓 ', '669 撤轮档', '361机务完成', '365加油完成 缺失较多',\n",
    "       '368开客舱', '369上轮档', '370登机结束', '378 配餐开始 8个', '379清洁开始', '380撤梯桥',\n",
    "       '637关客舱']\n",
    "other_index=['NO', 'flight', 'date','缺失个数']\n",
    "#将日期转化为数字的函数\n",
    "guiyi_data=data.copy()\n",
    "def str_to_time(str_temp):\n",
    "    # print(str_temp)\n",
    "    try:\n",
    "        str_list=str_temp.split(\":\")\n",
    "        # x=\n",
    "        return int(str_list[0])*60+int(str_list[1])\n",
    "    except:\n",
    "        return -1\n",
    "#转化为日期后的数据函数\n",
    "def trans_date_2_number():\n",
    "    index_list=list(data.columns)[3:-1]\n",
    "    print(data.columns)\n",
    "    x=data[\"641 靠梯桥\"][1]\n",
    "    print(str_to_time(x))\n",
    "    new_cleaned_data={}\n",
    "    for node_name in index_list:\n",
    "        data_temp=data[node_name]\n",
    "        new_cleaned_data[node_name]=[]\n",
    "        for i in range(len(data)):\n",
    "            node_temp=str_to_time(data_temp[i])\n",
    "            new_cleaned_data[node_name].append(node_temp)\n",
    "            if i%10000==0:\n",
    "                print(i)\n",
    "    new_cleaned_data[\"date\"]=list(data[\"date\"])\n",
    "    new_cleaned_data[\"flight\"]=list(data[\"flight\"])\n",
    "    new_cleaned_data[\"缺失个数\"]=list(data[\"缺失个数\"])\n",
    "    pd.DataFrame(new_cleaned_data).to_csv(\"cleaned_final02.csv\")\n",
    "try:\n",
    "    data_01=pd.read_csv(\"cleaned_final02.csv\")\n",
    "    print(\"data_final02 exists!\")\n",
    "    print(\"load data_final02 success!\")\n",
    "except:\n",
    "    print(\"data_final02 not exists!\")\n",
    "\n",
    "    trans_date_2_number()\n",
    "    data_01=pd.read_csv(\"cleaned_final02.csv\")\n",
    "    print(\"load data_final02 success!\")"
   ]
  },
  {
   "cell_type": "code",
   "execution_count": 10,
   "metadata": {
    "pycharm": {
     "is_executing": false,
     "name": "#%%\n"
    }
   },
   "outputs": [
    {
     "name": "stdout",
     "output_type": "stream",
     "text": [
      "加载数据成功\n"
     ]
    }
   ],
   "source": [
    "#对加载好的数据进行处理，以'369上轮档'数据为0 进行初始化另外的数据\n",
    "name_index_1=['641 靠梯桥', '644 清洁完成', '645开货仓', '655 配餐完成',\n",
    "       '660 机务完成', '662登机开始', '668关货仓 ', '669 撤轮档', '361机务完成', '365加油完成 缺失较多',\n",
    "       '368开客舱', '370登机结束', '378 配餐开始 8个', '379清洁开始', '380撤梯桥',\n",
    "       '637关客舱']\n",
    "name_begin='369上轮档'\n",
    "data_02=data_01.copy()\n",
    "def guiyihua_data():\n",
    "    data_02[\"begin\"]=[0 for i in range(len(data_01))]\n",
    "    for index in data_01.index:\n",
    "        value_beign=data_01.loc[index,name_begin]\n",
    "        for name_change in name_index_1:\n",
    "            value_temp=data_01.loc[index,name_change]\n",
    "            if value_temp!=-1 and value_temp-value_beign<200: #筛选出正常值进行计算\n",
    "                if index%100==0:\n",
    "                    print(value_temp,value_beign)\n",
    "                value_temp=value_temp-value_beign #减去上轮档时间，然后进行填充\n",
    "                data_02.loc[index,name_change]=value_temp\n",
    "            else: #否则判断为异常值\n",
    "                data_02.loc[index,name_change]=-1\n",
    "            \n",
    "                # print(value_temp)\n",
    "        if index%10000==0:\n",
    "                print(index)\n",
    "    ##第三次处理好的归一化后的数据大概4万多条\n",
    "    data_02.to_csv(\"cleaned_final03.csv\")\n",
    "try:\n",
    "    data_03=pd.read_csv(\"cleaned_final03.csv\")\n",
    "    print(\"加载数据成功\")\n",
    "except:\n",
    "    print(\"加载数据失败，重新计算\")\n",
    "    guiyihua_data()\n",
    "    data_03=pd.read_csv(\"cleaned_final03.csv\")\n",
    "    print(\"重新计算成功，加载到data_03中了\")\n",
    "##将差值在200以内的值计算出来了"
   ]
  },
  {
   "cell_type": "code",
   "execution_count": 11,
   "metadata": {
    "pycharm": {
     "is_executing": false,
     "name": "#%%\n"
    }
   },
   "outputs": [
    {
     "name": "stdout",
     "output_type": "stream",
     "text": [
      "加载失败\n",
      "重新计算去除负值的数据\n",
      "1000\n",
      "2000\n",
      "3000\n",
      "4000\n",
      "5000\n",
      "6000\n",
      "7000\n",
      "8000\n",
      "9000\n",
      "10000\n",
      "11000\n",
      "12000\n",
      "13000\n",
      "all nums 40699 delted numns 13256\n",
      "计算成功，并保存到data04中了\n"
     ]
    }
   ],
   "source": [
    "#将负值筛选出来，并统计数据条数，上面的步骤没有删除负的值，也就是时间早于撤轮档的时间，这部分数据剔除\n",
    "#总得数据条数\n",
    "def delete_false_value():\n",
    "    data_04=data_03.copy()\n",
    "    count_list=[]\n",
    "    delited_nums=0 #被删除的条数\n",
    "    all_nums=len(data_03) \n",
    "    for index in data_03.index:\n",
    "        count=0\n",
    "        for name in name_index_global:\n",
    "            value=data_03.loc[index,name]\n",
    "            if value<-1:\n",
    "                count+=1\n",
    "        if count>0:\n",
    "            count_list.append(0)\n",
    "            delited_nums+=1\n",
    "            if delited_nums%1000==0:\n",
    "                print(delited_nums)\n",
    "        else:\n",
    "            count_list.append(1)\n",
    "    print(\"all nums %d delted numns %d\"%(all_nums,delited_nums))\n",
    "    data_04[\"count\"]=count_list\n",
    "    data_04=data_04[data_04[\"count\"]!=0]\n",
    "    data_04.to_csv(\"cleaned_final04.csv\")\n",
    "try:\n",
    "    data_04=pd.read_csv(\"cleaned_final04.csv\")\n",
    "    print(\"去除负值的数据加载成功\")\n",
    "except:\n",
    "    print(\"加载失败\")\n",
    "    print(\"重新计算去除负值的数据\")\n",
    "    delete_false_value()\n",
    "    data_04=pd.read_csv(\"cleaned_final04.csv\")\n",
    "    print(\"计算成功，并保存到data04中了\")  "
   ]
  },
  {
   "cell_type": "code",
   "execution_count": 17,
   "metadata": {
    "pycharm": {
     "is_executing": false,
     "name": "#%%\n"
    }
   },
   "outputs": [
    {
     "name": "stderr",
     "output_type": "stream",
     "text": [
      "D:\\Anaconda364\\lib\\site-packages\\ipykernel_launcher.py:22: FutureWarning: pd.rolling_mean is deprecated for DataFrame and will be removed in a future version, replace with \n",
      "\tDataFrame.rolling(window=2,center=False).mean()\n"
     ]
    },
    {
     "data": {
      "image/png": "[encoded data removed]",
      "text/plain": [
       "<Figure size 576x216 with 1 Axes>"
      ]
     },
     "metadata": {},
     "output_type": "display_data"
    }
   ],
   "source": [
    "#对数据进行离散化处理，离散化方法为\n",
    "#聚类离散化\n",
    "%matplotlib inline\n",
    "from sklearn.cluster import KMeans\n",
    "def cluster_plot(d, k): #自定义作图函数来显示聚类结果\n",
    "  import matplotlib.pyplot as plt\n",
    "  plt.rcParams['font.sans-serif'] = ['SimHei'] #用来正常显示中文标签\n",
    "  plt.rcParams['axes.unicode_minus'] = False #用来正常显示负号\n",
    "\n",
    "  plt.figure(figsize = (8, 3))\n",
    "  for j in range(0, k):\n",
    "    plt.plot(data_temp[d==j], [j for i in d[d==j]], 'o') #plt.plot(x,y,'o')\n",
    "\n",
    "  plt.ylim(-0.5, k-0.5)\n",
    "  return plt\n",
    "\n",
    "K=10\n",
    "data_temp=data_04[data_04[\"361机务完成\"]!=-1][\"361机务完成\"]\n",
    "kmodel=KMeans(n_clusters=K,n_jobs=32)\n",
    "kmodel.fit(data_temp.values.reshape(len(data_temp),1 ))\n",
    "c = pd.DataFrame(kmodel.cluster_centers_).sort_values(0)  #输出聚类中心，并且排序（默认是随机序的）\n",
    "w = pd.rolling_mean(c, 2).iloc[1:] #相邻两项求中点，作为边界点\n",
    "w = [0] + list(w[0]) + [data_temp.max()] #把首末边界点加上，w[0]中0为列索引\n",
    "d3 = pd.cut(data_temp.values, w, labels = range(K))\n",
    "cluster_plot(d3, K).show()\n",
    "#还不能进行离散化处理，因为离散化了以后会影响后面的预测\n",
    "##基于概率的预测，预测置信度区间设置，多大概率落在这个区间内"
   ]
  }
 ],
 "metadata": {
  "kernelspec": {
   "display_name": "PyCharm (DT_BN)",
   "language": "python",
   "name": "pycharm-14933011"
  },
  "language_info": {
   "codemirror_mode": {
    "name": "ipython",
    "version": 3
   },
   "file_extension": ".py",
   "mimetype": "text/x-python",
   "name": "python",
   "nbconvert_exporter": "python",
   "pygments_lexer": "ipython3",
   "version": "3.6.4"
  },
  "pycharm": {
   "stem_cell": {
    "cell_type": "raw",
    "metadata": {
     "collapsed": false
    },
    "source": []
   }
  }
 },
 "nbformat": 4,
 "nbformat_minor": 1
}
